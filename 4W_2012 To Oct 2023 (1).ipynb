{
 "cells": [
  {
   "cell_type": "code",
   "execution_count": 1,
   "id": "0ea1d509",
   "metadata": {},
   "outputs": [],
   "source": [
    "import pandas as pd\n",
    "import numpy as np\n",
    "import matplotlib.pyplot as plt\n",
    "import seaborn as sns\n",
    "pd.set_option('display.float_format', lambda x: '%.3f' % x)\n",
    "import warnings\n",
    "warnings.filterwarnings('ignore')"
   ]
  },
  {
   "cell_type": "code",
   "execution_count": 2,
   "id": "da853d3d",
   "metadata": {},
   "outputs": [],
   "source": [
    "df= pd.read_excel(\"SAMIL_4W_ALL_DATA_2012TOOCT2023_SENT_07FEB24.xlsx\")"
   ]
  },
  {
   "cell_type": "code",
   "execution_count": 3,
   "id": "84a79ba2",
   "metadata": {},
   "outputs": [
    {
     "data": {
      "text/html": [
       "<div>\n",
       "<style scoped>\n",
       "    .dataframe tbody tr th:only-of-type {\n",
       "        vertical-align: middle;\n",
       "    }\n",
       "\n",
       "    .dataframe tbody tr th {\n",
       "        vertical-align: top;\n",
       "    }\n",
       "\n",
       "    .dataframe thead th {\n",
       "        text-align: right;\n",
       "    }\n",
       "</style>\n",
       "<table border=\"1\" class=\"dataframe\">\n",
       "  <thead>\n",
       "    <tr style=\"text-align: right;\">\n",
       "      <th></th>\n",
       "      <th>REF NO</th>\n",
       "      <th>SOLD_DATE</th>\n",
       "      <th>MIXMMVYEAR</th>\n",
       "      <th>MAKE_YEAR</th>\n",
       "      <th>Make_Clean</th>\n",
       "      <th>Model_Clean</th>\n",
       "      <th>Variant_Clean</th>\n",
       "      <th>Fuel_Clean</th>\n",
       "      <th>SOLDAMOUNT</th>\n",
       "      <th>CV_State_Clean</th>\n",
       "      <th>METERREADING</th>\n",
       "      <th>SELLER_SEGMENT</th>\n",
       "      <th>MIXMMVFUEL</th>\n",
       "      <th>OUTLIER REMARK</th>\n",
       "    </tr>\n",
       "  </thead>\n",
       "  <tbody>\n",
       "    <tr>\n",
       "      <th>0</th>\n",
       "      <td>33.000</td>\n",
       "      <td>2019-12-12</td>\n",
       "      <td>ASHOKLEYLAND_STILE_LE7STR_DIESEL_2012</td>\n",
       "      <td>2012</td>\n",
       "      <td>ASHOKLEYLAND</td>\n",
       "      <td>STILE</td>\n",
       "      <td>LE7STR</td>\n",
       "      <td>DIESEL</td>\n",
       "      <td>274040.000</td>\n",
       "      <td>MADHYAPRADESH</td>\n",
       "      <td>87060.000</td>\n",
       "      <td>OEM</td>\n",
       "      <td>ASHOKLEYLAND_STILE_LE7STR_DIESEL</td>\n",
       "      <td>NaN</td>\n",
       "    </tr>\n",
       "    <tr>\n",
       "      <th>1</th>\n",
       "      <td>44.000</td>\n",
       "      <td>2020-12-12</td>\n",
       "      <td>ASHOKLEYLAND_STILE_LE7STR_DIESEL_2012</td>\n",
       "      <td>2012</td>\n",
       "      <td>ASHOKLEYLAND</td>\n",
       "      <td>STILE</td>\n",
       "      <td>LE7STR</td>\n",
       "      <td>DIESEL</td>\n",
       "      <td>232934.000</td>\n",
       "      <td>MAHARASHTRA</td>\n",
       "      <td>98040.000</td>\n",
       "      <td>OEM</td>\n",
       "      <td>ASHOKLEYLAND_STILE_LE7STR_DIESEL</td>\n",
       "      <td>NaN</td>\n",
       "    </tr>\n",
       "    <tr>\n",
       "      <th>2</th>\n",
       "      <td>46.000</td>\n",
       "      <td>2021-12-12</td>\n",
       "      <td>ASHOKLEYLAND_STILE_LE7STR_DIESEL_2012</td>\n",
       "      <td>2012</td>\n",
       "      <td>ASHOKLEYLAND</td>\n",
       "      <td>STILE</td>\n",
       "      <td>LE7STR</td>\n",
       "      <td>DIESEL</td>\n",
       "      <td>197994.000</td>\n",
       "      <td>ANDHRAPRADESH</td>\n",
       "      <td>108990.000</td>\n",
       "      <td>OEM</td>\n",
       "      <td>ASHOKLEYLAND_STILE_LE7STR_DIESEL</td>\n",
       "      <td>NaN</td>\n",
       "    </tr>\n",
       "    <tr>\n",
       "      <th>3</th>\n",
       "      <td>47.000</td>\n",
       "      <td>2022-12-12</td>\n",
       "      <td>ASHOKLEYLAND_STILE_LE7STR_DIESEL_2012</td>\n",
       "      <td>2012</td>\n",
       "      <td>ASHOKLEYLAND</td>\n",
       "      <td>STILE</td>\n",
       "      <td>LE7STR</td>\n",
       "      <td>DIESEL</td>\n",
       "      <td>168295.000</td>\n",
       "      <td>JHARKHAND</td>\n",
       "      <td>119940.000</td>\n",
       "      <td>OEM</td>\n",
       "      <td>ASHOKLEYLAND_STILE_LE7STR_DIESEL</td>\n",
       "      <td>NaN</td>\n",
       "    </tr>\n",
       "    <tr>\n",
       "      <th>4</th>\n",
       "      <td>9.000</td>\n",
       "      <td>2016-09-17</td>\n",
       "      <td>ASHOKLEYLAND_STILE_LE7STR_DIESEL_2013</td>\n",
       "      <td>2013</td>\n",
       "      <td>ASHOKLEYLAND</td>\n",
       "      <td>STILE</td>\n",
       "      <td>LE7STR</td>\n",
       "      <td>DIESEL</td>\n",
       "      <td>300000.000</td>\n",
       "      <td>TAMILNADU</td>\n",
       "      <td>40650.000</td>\n",
       "      <td>RETAIL</td>\n",
       "      <td>ASHOKLEYLAND_STILE_LE7STR_DIESEL</td>\n",
       "      <td>NaN</td>\n",
       "    </tr>\n",
       "  </tbody>\n",
       "</table>\n",
       "</div>"
      ],
      "text/plain": [
       "   REF NO  SOLD_DATE                             MIXMMVYEAR  MAKE_YEAR  \\\n",
       "0  33.000 2019-12-12  ASHOKLEYLAND_STILE_LE7STR_DIESEL_2012       2012   \n",
       "1  44.000 2020-12-12  ASHOKLEYLAND_STILE_LE7STR_DIESEL_2012       2012   \n",
       "2  46.000 2021-12-12  ASHOKLEYLAND_STILE_LE7STR_DIESEL_2012       2012   \n",
       "3  47.000 2022-12-12  ASHOKLEYLAND_STILE_LE7STR_DIESEL_2012       2012   \n",
       "4   9.000 2016-09-17  ASHOKLEYLAND_STILE_LE7STR_DIESEL_2013       2013   \n",
       "\n",
       "     Make_Clean Model_Clean Variant_Clean Fuel_Clean  SOLDAMOUNT  \\\n",
       "0  ASHOKLEYLAND       STILE        LE7STR     DIESEL  274040.000   \n",
       "1  ASHOKLEYLAND       STILE        LE7STR     DIESEL  232934.000   \n",
       "2  ASHOKLEYLAND       STILE        LE7STR     DIESEL  197994.000   \n",
       "3  ASHOKLEYLAND       STILE        LE7STR     DIESEL  168295.000   \n",
       "4  ASHOKLEYLAND       STILE        LE7STR     DIESEL  300000.000   \n",
       "\n",
       "  CV_State_Clean  METERREADING SELLER_SEGMENT  \\\n",
       "0  MADHYAPRADESH     87060.000            OEM   \n",
       "1    MAHARASHTRA     98040.000            OEM   \n",
       "2  ANDHRAPRADESH    108990.000            OEM   \n",
       "3      JHARKHAND    119940.000            OEM   \n",
       "4      TAMILNADU     40650.000         RETAIL   \n",
       "\n",
       "                         MIXMMVFUEL OUTLIER REMARK  \n",
       "0  ASHOKLEYLAND_STILE_LE7STR_DIESEL            NaN  \n",
       "1  ASHOKLEYLAND_STILE_LE7STR_DIESEL            NaN  \n",
       "2  ASHOKLEYLAND_STILE_LE7STR_DIESEL            NaN  \n",
       "3  ASHOKLEYLAND_STILE_LE7STR_DIESEL            NaN  \n",
       "4  ASHOKLEYLAND_STILE_LE7STR_DIESEL            NaN  "
      ]
     },
     "execution_count": 3,
     "metadata": {},
     "output_type": "execute_result"
    }
   ],
   "source": [
    "df.head()"
   ]
  },
  {
   "cell_type": "code",
   "execution_count": 4,
   "id": "92619424",
   "metadata": {},
   "outputs": [],
   "source": [
    "df.drop(columns=['REF NO','OUTLIER REMARK'], inplace=True)"
   ]
  },
  {
   "cell_type": "code",
   "execution_count": 5,
   "id": "43111b8b",
   "metadata": {},
   "outputs": [
    {
     "data": {
      "text/plain": [
       "SOLD_DATE         56\n",
       "MIXMMVYEAR         0\n",
       "MAKE_YEAR          0\n",
       "Make_Clean         0\n",
       "Model_Clean        0\n",
       "Variant_Clean      0\n",
       "Fuel_Clean         0\n",
       "SOLDAMOUNT         0\n",
       "CV_State_Clean     0\n",
       "METERREADING       0\n",
       "SELLER_SEGMENT     0\n",
       "MIXMMVFUEL         0\n",
       "dtype: int64"
      ]
     },
     "execution_count": 5,
     "metadata": {},
     "output_type": "execute_result"
    }
   ],
   "source": [
    "df.isnull().sum()"
   ]
  },
  {
   "cell_type": "code",
   "execution_count": 6,
   "id": "0d3b3841",
   "metadata": {},
   "outputs": [
    {
     "name": "stdout",
     "output_type": "stream",
     "text": [
      "<class 'pandas.core.frame.DataFrame'>\n",
      "RangeIndex: 266356 entries, 0 to 266355\n",
      "Data columns (total 12 columns):\n",
      " #   Column          Non-Null Count   Dtype         \n",
      "---  ------          --------------   -----         \n",
      " 0   SOLD_DATE       266300 non-null  datetime64[ns]\n",
      " 1   MIXMMVYEAR      266356 non-null  object        \n",
      " 2   MAKE_YEAR       266356 non-null  int64         \n",
      " 3   Make_Clean      266356 non-null  object        \n",
      " 4   Model_Clean     266356 non-null  object        \n",
      " 5   Variant_Clean   266356 non-null  object        \n",
      " 6   Fuel_Clean      266356 non-null  object        \n",
      " 7   SOLDAMOUNT      266356 non-null  float64       \n",
      " 8   CV_State_Clean  266356 non-null  object        \n",
      " 9   METERREADING    266356 non-null  float64       \n",
      " 10  SELLER_SEGMENT  266356 non-null  object        \n",
      " 11  MIXMMVFUEL      266356 non-null  object        \n",
      "dtypes: datetime64[ns](1), float64(2), int64(1), object(8)\n",
      "memory usage: 24.4+ MB\n"
     ]
    }
   ],
   "source": [
    "df.info()"
   ]
  },
  {
   "cell_type": "code",
   "execution_count": 7,
   "id": "eb6f48dd",
   "metadata": {},
   "outputs": [
    {
     "data": {
      "text/html": [
       "<div>\n",
       "<style scoped>\n",
       "    .dataframe tbody tr th:only-of-type {\n",
       "        vertical-align: middle;\n",
       "    }\n",
       "\n",
       "    .dataframe tbody tr th {\n",
       "        vertical-align: top;\n",
       "    }\n",
       "\n",
       "    .dataframe thead th {\n",
       "        text-align: right;\n",
       "    }\n",
       "</style>\n",
       "<table border=\"1\" class=\"dataframe\">\n",
       "  <thead>\n",
       "    <tr style=\"text-align: right;\">\n",
       "      <th></th>\n",
       "      <th>SOLD_DATE</th>\n",
       "      <th>MIXMMVYEAR</th>\n",
       "      <th>MAKE_YEAR</th>\n",
       "      <th>Make_Clean</th>\n",
       "      <th>Model_Clean</th>\n",
       "      <th>Variant_Clean</th>\n",
       "      <th>Fuel_Clean</th>\n",
       "      <th>SOLDAMOUNT</th>\n",
       "      <th>CV_State_Clean</th>\n",
       "      <th>METERREADING</th>\n",
       "      <th>SELLER_SEGMENT</th>\n",
       "      <th>MIXMMVFUEL</th>\n",
       "    </tr>\n",
       "  </thead>\n",
       "  <tbody>\n",
       "    <tr>\n",
       "      <th>0</th>\n",
       "      <td>2019-12-12</td>\n",
       "      <td>ASHOKLEYLAND_STILE_LE7STR_DIESEL_2012</td>\n",
       "      <td>2012</td>\n",
       "      <td>ASHOKLEYLAND</td>\n",
       "      <td>STILE</td>\n",
       "      <td>LE7STR</td>\n",
       "      <td>DIESEL</td>\n",
       "      <td>274040.000</td>\n",
       "      <td>MADHYAPRADESH</td>\n",
       "      <td>87060.000</td>\n",
       "      <td>OEM</td>\n",
       "      <td>ASHOKLEYLAND_STILE_LE7STR_DIESEL</td>\n",
       "    </tr>\n",
       "    <tr>\n",
       "      <th>1</th>\n",
       "      <td>2020-12-12</td>\n",
       "      <td>ASHOKLEYLAND_STILE_LE7STR_DIESEL_2012</td>\n",
       "      <td>2012</td>\n",
       "      <td>ASHOKLEYLAND</td>\n",
       "      <td>STILE</td>\n",
       "      <td>LE7STR</td>\n",
       "      <td>DIESEL</td>\n",
       "      <td>232934.000</td>\n",
       "      <td>MAHARASHTRA</td>\n",
       "      <td>98040.000</td>\n",
       "      <td>OEM</td>\n",
       "      <td>ASHOKLEYLAND_STILE_LE7STR_DIESEL</td>\n",
       "    </tr>\n",
       "    <tr>\n",
       "      <th>2</th>\n",
       "      <td>2021-12-12</td>\n",
       "      <td>ASHOKLEYLAND_STILE_LE7STR_DIESEL_2012</td>\n",
       "      <td>2012</td>\n",
       "      <td>ASHOKLEYLAND</td>\n",
       "      <td>STILE</td>\n",
       "      <td>LE7STR</td>\n",
       "      <td>DIESEL</td>\n",
       "      <td>197994.000</td>\n",
       "      <td>ANDHRAPRADESH</td>\n",
       "      <td>108990.000</td>\n",
       "      <td>OEM</td>\n",
       "      <td>ASHOKLEYLAND_STILE_LE7STR_DIESEL</td>\n",
       "    </tr>\n",
       "    <tr>\n",
       "      <th>3</th>\n",
       "      <td>2022-12-12</td>\n",
       "      <td>ASHOKLEYLAND_STILE_LE7STR_DIESEL_2012</td>\n",
       "      <td>2012</td>\n",
       "      <td>ASHOKLEYLAND</td>\n",
       "      <td>STILE</td>\n",
       "      <td>LE7STR</td>\n",
       "      <td>DIESEL</td>\n",
       "      <td>168295.000</td>\n",
       "      <td>JHARKHAND</td>\n",
       "      <td>119940.000</td>\n",
       "      <td>OEM</td>\n",
       "      <td>ASHOKLEYLAND_STILE_LE7STR_DIESEL</td>\n",
       "    </tr>\n",
       "    <tr>\n",
       "      <th>4</th>\n",
       "      <td>2016-09-17</td>\n",
       "      <td>ASHOKLEYLAND_STILE_LE7STR_DIESEL_2013</td>\n",
       "      <td>2013</td>\n",
       "      <td>ASHOKLEYLAND</td>\n",
       "      <td>STILE</td>\n",
       "      <td>LE7STR</td>\n",
       "      <td>DIESEL</td>\n",
       "      <td>300000.000</td>\n",
       "      <td>TAMILNADU</td>\n",
       "      <td>40650.000</td>\n",
       "      <td>RETAIL</td>\n",
       "      <td>ASHOKLEYLAND_STILE_LE7STR_DIESEL</td>\n",
       "    </tr>\n",
       "  </tbody>\n",
       "</table>\n",
       "</div>"
      ],
      "text/plain": [
       "   SOLD_DATE                             MIXMMVYEAR  MAKE_YEAR    Make_Clean  \\\n",
       "0 2019-12-12  ASHOKLEYLAND_STILE_LE7STR_DIESEL_2012       2012  ASHOKLEYLAND   \n",
       "1 2020-12-12  ASHOKLEYLAND_STILE_LE7STR_DIESEL_2012       2012  ASHOKLEYLAND   \n",
       "2 2021-12-12  ASHOKLEYLAND_STILE_LE7STR_DIESEL_2012       2012  ASHOKLEYLAND   \n",
       "3 2022-12-12  ASHOKLEYLAND_STILE_LE7STR_DIESEL_2012       2012  ASHOKLEYLAND   \n",
       "4 2016-09-17  ASHOKLEYLAND_STILE_LE7STR_DIESEL_2013       2013  ASHOKLEYLAND   \n",
       "\n",
       "  Model_Clean Variant_Clean Fuel_Clean  SOLDAMOUNT CV_State_Clean  \\\n",
       "0       STILE        LE7STR     DIESEL  274040.000  MADHYAPRADESH   \n",
       "1       STILE        LE7STR     DIESEL  232934.000    MAHARASHTRA   \n",
       "2       STILE        LE7STR     DIESEL  197994.000  ANDHRAPRADESH   \n",
       "3       STILE        LE7STR     DIESEL  168295.000      JHARKHAND   \n",
       "4       STILE        LE7STR     DIESEL  300000.000      TAMILNADU   \n",
       "\n",
       "   METERREADING SELLER_SEGMENT                        MIXMMVFUEL  \n",
       "0     87060.000            OEM  ASHOKLEYLAND_STILE_LE7STR_DIESEL  \n",
       "1     98040.000            OEM  ASHOKLEYLAND_STILE_LE7STR_DIESEL  \n",
       "2    108990.000            OEM  ASHOKLEYLAND_STILE_LE7STR_DIESEL  \n",
       "3    119940.000            OEM  ASHOKLEYLAND_STILE_LE7STR_DIESEL  \n",
       "4     40650.000         RETAIL  ASHOKLEYLAND_STILE_LE7STR_DIESEL  "
      ]
     },
     "execution_count": 7,
     "metadata": {},
     "output_type": "execute_result"
    }
   ],
   "source": [
    "df.head()"
   ]
  },
  {
   "cell_type": "code",
   "execution_count": 8,
   "id": "ad072f11",
   "metadata": {},
   "outputs": [],
   "source": [
    "df.dropna(subset=['SOLD_DATE'], inplace=True)"
   ]
  },
  {
   "cell_type": "code",
   "execution_count": 9,
   "id": "5e569470",
   "metadata": {},
   "outputs": [
    {
     "data": {
      "text/plain": [
       "(266300, 12)"
      ]
     },
     "execution_count": 9,
     "metadata": {},
     "output_type": "execute_result"
    }
   ],
   "source": [
    "df.shape"
   ]
  },
  {
   "cell_type": "code",
   "execution_count": 10,
   "id": "76445b94",
   "metadata": {},
   "outputs": [
    {
     "data": {
      "text/plain": [
       "SOLD_DATE         0\n",
       "MIXMMVYEAR        0\n",
       "MAKE_YEAR         0\n",
       "Make_Clean        0\n",
       "Model_Clean       0\n",
       "Variant_Clean     0\n",
       "Fuel_Clean        0\n",
       "SOLDAMOUNT        0\n",
       "CV_State_Clean    0\n",
       "METERREADING      0\n",
       "SELLER_SEGMENT    0\n",
       "MIXMMVFUEL        0\n",
       "dtype: int64"
      ]
     },
     "execution_count": 10,
     "metadata": {},
     "output_type": "execute_result"
    }
   ],
   "source": [
    "df.isnull().sum()"
   ]
  },
  {
   "cell_type": "code",
   "execution_count": 11,
   "id": "cfa2abd0",
   "metadata": {},
   "outputs": [],
   "source": [
    "df1 = df[df['SOLDAMOUNT']>=20000]"
   ]
  },
  {
   "cell_type": "code",
   "execution_count": 12,
   "id": "88cad295",
   "metadata": {},
   "outputs": [
    {
     "data": {
      "text/plain": [
       "(262800, 12)"
      ]
     },
     "execution_count": 12,
     "metadata": {},
     "output_type": "execute_result"
    }
   ],
   "source": [
    "df1.shape"
   ]
  },
  {
   "cell_type": "code",
   "execution_count": 13,
   "id": "3f5807df",
   "metadata": {},
   "outputs": [
    {
     "data": {
      "text/html": [
       "<div>\n",
       "<style scoped>\n",
       "    .dataframe tbody tr th:only-of-type {\n",
       "        vertical-align: middle;\n",
       "    }\n",
       "\n",
       "    .dataframe tbody tr th {\n",
       "        vertical-align: top;\n",
       "    }\n",
       "\n",
       "    .dataframe thead th {\n",
       "        text-align: right;\n",
       "    }\n",
       "</style>\n",
       "<table border=\"1\" class=\"dataframe\">\n",
       "  <thead>\n",
       "    <tr style=\"text-align: right;\">\n",
       "      <th></th>\n",
       "      <th>MAKE_YEAR</th>\n",
       "      <th>SOLDAMOUNT</th>\n",
       "      <th>METERREADING</th>\n",
       "    </tr>\n",
       "  </thead>\n",
       "  <tbody>\n",
       "    <tr>\n",
       "      <th>count</th>\n",
       "      <td>262800.000</td>\n",
       "      <td>262800.000</td>\n",
       "      <td>262800.000</td>\n",
       "    </tr>\n",
       "    <tr>\n",
       "      <th>mean</th>\n",
       "      <td>2011.671</td>\n",
       "      <td>405626.686</td>\n",
       "      <td>94829.429</td>\n",
       "    </tr>\n",
       "    <tr>\n",
       "      <th>std</th>\n",
       "      <td>3.909</td>\n",
       "      <td>1963064.574</td>\n",
       "      <td>68015.215</td>\n",
       "    </tr>\n",
       "    <tr>\n",
       "      <th>min</th>\n",
       "      <td>1991.000</td>\n",
       "      <td>20000.000</td>\n",
       "      <td>300.000</td>\n",
       "    </tr>\n",
       "    <tr>\n",
       "      <th>25%</th>\n",
       "      <td>2009.000</td>\n",
       "      <td>85000.000</td>\n",
       "      <td>49830.000</td>\n",
       "    </tr>\n",
       "    <tr>\n",
       "      <th>50%</th>\n",
       "      <td>2011.000</td>\n",
       "      <td>169000.000</td>\n",
       "      <td>83220.000</td>\n",
       "    </tr>\n",
       "    <tr>\n",
       "      <th>75%</th>\n",
       "      <td>2015.000</td>\n",
       "      <td>315000.000</td>\n",
       "      <td>121380.000</td>\n",
       "    </tr>\n",
       "    <tr>\n",
       "      <th>max</th>\n",
       "      <td>2023.000</td>\n",
       "      <td>113800500.000</td>\n",
       "      <td>2682857.000</td>\n",
       "    </tr>\n",
       "  </tbody>\n",
       "</table>\n",
       "</div>"
      ],
      "text/plain": [
       "       MAKE_YEAR    SOLDAMOUNT  METERREADING\n",
       "count 262800.000    262800.000    262800.000\n",
       "mean    2011.671    405626.686     94829.429\n",
       "std        3.909   1963064.574     68015.215\n",
       "min     1991.000     20000.000       300.000\n",
       "25%     2009.000     85000.000     49830.000\n",
       "50%     2011.000    169000.000     83220.000\n",
       "75%     2015.000    315000.000    121380.000\n",
       "max     2023.000 113800500.000   2682857.000"
      ]
     },
     "execution_count": 13,
     "metadata": {},
     "output_type": "execute_result"
    }
   ],
   "source": [
    "df1.describe()"
   ]
  },
  {
   "cell_type": "code",
   "execution_count": 14,
   "id": "1363eeea",
   "metadata": {},
   "outputs": [
    {
     "data": {
      "text/plain": [
       "4X2MINIBUS       13299\n",
       "DLE              10631\n",
       "VDI              10046\n",
       "LS                9256\n",
       "DLS               8993\n",
       "                 ...  \n",
       "2.0TRENDLINE        10\n",
       "ASTA                 6\n",
       "2.2                  5\n",
       "1                    3\n",
       "CL 500 DI MDI        3\n",
       "Name: Variant_Clean, Length: 2456, dtype: int64"
      ]
     },
     "execution_count": 14,
     "metadata": {},
     "output_type": "execute_result"
    }
   ],
   "source": [
    "df1['Variant_Clean'].value_counts()"
   ]
  },
  {
   "cell_type": "code",
   "execution_count": 15,
   "id": "47e90124",
   "metadata": {},
   "outputs": [],
   "source": [
    "df1.drop(columns=['MIXMMVFUEL'], inplace=True)"
   ]
  },
  {
   "cell_type": "code",
   "execution_count": 16,
   "id": "ddc7a594",
   "metadata": {},
   "outputs": [
    {
     "data": {
      "text/html": [
       "<div>\n",
       "<style scoped>\n",
       "    .dataframe tbody tr th:only-of-type {\n",
       "        vertical-align: middle;\n",
       "    }\n",
       "\n",
       "    .dataframe tbody tr th {\n",
       "        vertical-align: top;\n",
       "    }\n",
       "\n",
       "    .dataframe thead th {\n",
       "        text-align: right;\n",
       "    }\n",
       "</style>\n",
       "<table border=\"1\" class=\"dataframe\">\n",
       "  <thead>\n",
       "    <tr style=\"text-align: right;\">\n",
       "      <th></th>\n",
       "      <th>SOLD_DATE</th>\n",
       "      <th>MIXMMVYEAR</th>\n",
       "      <th>MAKE_YEAR</th>\n",
       "      <th>Make_Clean</th>\n",
       "      <th>Model_Clean</th>\n",
       "      <th>Variant_Clean</th>\n",
       "      <th>Fuel_Clean</th>\n",
       "      <th>SOLDAMOUNT</th>\n",
       "      <th>CV_State_Clean</th>\n",
       "      <th>METERREADING</th>\n",
       "      <th>SELLER_SEGMENT</th>\n",
       "    </tr>\n",
       "  </thead>\n",
       "  <tbody>\n",
       "    <tr>\n",
       "      <th>0</th>\n",
       "      <td>2019-12-12</td>\n",
       "      <td>ASHOKLEYLAND_STILE_LE7STR_DIESEL_2012</td>\n",
       "      <td>2012</td>\n",
       "      <td>ASHOKLEYLAND</td>\n",
       "      <td>STILE</td>\n",
       "      <td>LE7STR</td>\n",
       "      <td>DIESEL</td>\n",
       "      <td>274040.000</td>\n",
       "      <td>MADHYAPRADESH</td>\n",
       "      <td>87060.000</td>\n",
       "      <td>OEM</td>\n",
       "    </tr>\n",
       "    <tr>\n",
       "      <th>1</th>\n",
       "      <td>2020-12-12</td>\n",
       "      <td>ASHOKLEYLAND_STILE_LE7STR_DIESEL_2012</td>\n",
       "      <td>2012</td>\n",
       "      <td>ASHOKLEYLAND</td>\n",
       "      <td>STILE</td>\n",
       "      <td>LE7STR</td>\n",
       "      <td>DIESEL</td>\n",
       "      <td>232934.000</td>\n",
       "      <td>MAHARASHTRA</td>\n",
       "      <td>98040.000</td>\n",
       "      <td>OEM</td>\n",
       "    </tr>\n",
       "    <tr>\n",
       "      <th>2</th>\n",
       "      <td>2021-12-12</td>\n",
       "      <td>ASHOKLEYLAND_STILE_LE7STR_DIESEL_2012</td>\n",
       "      <td>2012</td>\n",
       "      <td>ASHOKLEYLAND</td>\n",
       "      <td>STILE</td>\n",
       "      <td>LE7STR</td>\n",
       "      <td>DIESEL</td>\n",
       "      <td>197994.000</td>\n",
       "      <td>ANDHRAPRADESH</td>\n",
       "      <td>108990.000</td>\n",
       "      <td>OEM</td>\n",
       "    </tr>\n",
       "    <tr>\n",
       "      <th>3</th>\n",
       "      <td>2022-12-12</td>\n",
       "      <td>ASHOKLEYLAND_STILE_LE7STR_DIESEL_2012</td>\n",
       "      <td>2012</td>\n",
       "      <td>ASHOKLEYLAND</td>\n",
       "      <td>STILE</td>\n",
       "      <td>LE7STR</td>\n",
       "      <td>DIESEL</td>\n",
       "      <td>168295.000</td>\n",
       "      <td>JHARKHAND</td>\n",
       "      <td>119940.000</td>\n",
       "      <td>OEM</td>\n",
       "    </tr>\n",
       "    <tr>\n",
       "      <th>4</th>\n",
       "      <td>2016-09-17</td>\n",
       "      <td>ASHOKLEYLAND_STILE_LE7STR_DIESEL_2013</td>\n",
       "      <td>2013</td>\n",
       "      <td>ASHOKLEYLAND</td>\n",
       "      <td>STILE</td>\n",
       "      <td>LE7STR</td>\n",
       "      <td>DIESEL</td>\n",
       "      <td>300000.000</td>\n",
       "      <td>TAMILNADU</td>\n",
       "      <td>40650.000</td>\n",
       "      <td>RETAIL</td>\n",
       "    </tr>\n",
       "  </tbody>\n",
       "</table>\n",
       "</div>"
      ],
      "text/plain": [
       "   SOLD_DATE                             MIXMMVYEAR  MAKE_YEAR    Make_Clean  \\\n",
       "0 2019-12-12  ASHOKLEYLAND_STILE_LE7STR_DIESEL_2012       2012  ASHOKLEYLAND   \n",
       "1 2020-12-12  ASHOKLEYLAND_STILE_LE7STR_DIESEL_2012       2012  ASHOKLEYLAND   \n",
       "2 2021-12-12  ASHOKLEYLAND_STILE_LE7STR_DIESEL_2012       2012  ASHOKLEYLAND   \n",
       "3 2022-12-12  ASHOKLEYLAND_STILE_LE7STR_DIESEL_2012       2012  ASHOKLEYLAND   \n",
       "4 2016-09-17  ASHOKLEYLAND_STILE_LE7STR_DIESEL_2013       2013  ASHOKLEYLAND   \n",
       "\n",
       "  Model_Clean Variant_Clean Fuel_Clean  SOLDAMOUNT CV_State_Clean  \\\n",
       "0       STILE        LE7STR     DIESEL  274040.000  MADHYAPRADESH   \n",
       "1       STILE        LE7STR     DIESEL  232934.000    MAHARASHTRA   \n",
       "2       STILE        LE7STR     DIESEL  197994.000  ANDHRAPRADESH   \n",
       "3       STILE        LE7STR     DIESEL  168295.000      JHARKHAND   \n",
       "4       STILE        LE7STR     DIESEL  300000.000      TAMILNADU   \n",
       "\n",
       "   METERREADING SELLER_SEGMENT  \n",
       "0     87060.000            OEM  \n",
       "1     98040.000            OEM  \n",
       "2    108990.000            OEM  \n",
       "3    119940.000            OEM  \n",
       "4     40650.000         RETAIL  "
      ]
     },
     "execution_count": 16,
     "metadata": {},
     "output_type": "execute_result"
    }
   ],
   "source": [
    "df1.head()"
   ]
  },
  {
   "cell_type": "code",
   "execution_count": 17,
   "id": "99fcede6",
   "metadata": {},
   "outputs": [],
   "source": [
    "from datetime import datetime"
   ]
  },
  {
   "cell_type": "code",
   "execution_count": 18,
   "id": "631cd566",
   "metadata": {},
   "outputs": [],
   "source": [
    "df1.SOLD_DATE=pd.to_datetime(df1.SOLD_DATE)"
   ]
  },
  {
   "cell_type": "code",
   "execution_count": 19,
   "id": "69eded2f",
   "metadata": {},
   "outputs": [],
   "source": [
    "df1['SOLD_YEAR']= df1.SOLD_DATE.dt.year"
   ]
  },
  {
   "cell_type": "code",
   "execution_count": 20,
   "id": "166c4b2f",
   "metadata": {},
   "outputs": [],
   "source": [
    "df1['SOLD_MONTH']= df1.SOLD_DATE.dt.month"
   ]
  },
  {
   "cell_type": "code",
   "execution_count": 21,
   "id": "9244d5cc",
   "metadata": {},
   "outputs": [],
   "source": [
    "df1['SOLD_DAY']= df1.SOLD_DATE.dt.day"
   ]
  },
  {
   "cell_type": "code",
   "execution_count": 22,
   "id": "1a986e1c",
   "metadata": {},
   "outputs": [],
   "source": [
    "df1['CV_AGE']= df1['SOLD_YEAR'] - df1['MAKE_YEAR']"
   ]
  },
  {
   "cell_type": "code",
   "execution_count": 23,
   "id": "0d48ddc6",
   "metadata": {},
   "outputs": [],
   "source": [
    "df2= df1[df1['CV_AGE']>=0]"
   ]
  },
  {
   "cell_type": "code",
   "execution_count": 24,
   "id": "30182106",
   "metadata": {},
   "outputs": [
    {
     "data": {
      "text/plain": [
       "(262800, 15)"
      ]
     },
     "execution_count": 24,
     "metadata": {},
     "output_type": "execute_result"
    }
   ],
   "source": [
    "df2.shape"
   ]
  },
  {
   "cell_type": "code",
   "execution_count": 25,
   "id": "ffa7daf7",
   "metadata": {},
   "outputs": [
    {
     "data": {
      "text/html": [
       "<div>\n",
       "<style scoped>\n",
       "    .dataframe tbody tr th:only-of-type {\n",
       "        vertical-align: middle;\n",
       "    }\n",
       "\n",
       "    .dataframe tbody tr th {\n",
       "        vertical-align: top;\n",
       "    }\n",
       "\n",
       "    .dataframe thead th {\n",
       "        text-align: right;\n",
       "    }\n",
       "</style>\n",
       "<table border=\"1\" class=\"dataframe\">\n",
       "  <thead>\n",
       "    <tr style=\"text-align: right;\">\n",
       "      <th></th>\n",
       "      <th>SOLD_DATE</th>\n",
       "      <th>MIXMMVYEAR</th>\n",
       "      <th>MAKE_YEAR</th>\n",
       "      <th>Make_Clean</th>\n",
       "      <th>Model_Clean</th>\n",
       "      <th>Variant_Clean</th>\n",
       "      <th>Fuel_Clean</th>\n",
       "      <th>SOLDAMOUNT</th>\n",
       "      <th>CV_State_Clean</th>\n",
       "      <th>METERREADING</th>\n",
       "      <th>SELLER_SEGMENT</th>\n",
       "      <th>SOLD_YEAR</th>\n",
       "      <th>SOLD_MONTH</th>\n",
       "      <th>SOLD_DAY</th>\n",
       "      <th>CV_AGE</th>\n",
       "    </tr>\n",
       "  </thead>\n",
       "  <tbody>\n",
       "    <tr>\n",
       "      <th>0</th>\n",
       "      <td>2019-12-12</td>\n",
       "      <td>ASHOKLEYLAND_STILE_LE7STR_DIESEL_2012</td>\n",
       "      <td>2012</td>\n",
       "      <td>ASHOKLEYLAND</td>\n",
       "      <td>STILE</td>\n",
       "      <td>LE7STR</td>\n",
       "      <td>DIESEL</td>\n",
       "      <td>274040.000</td>\n",
       "      <td>MADHYAPRADESH</td>\n",
       "      <td>87060.000</td>\n",
       "      <td>OEM</td>\n",
       "      <td>2019</td>\n",
       "      <td>12</td>\n",
       "      <td>12</td>\n",
       "      <td>7</td>\n",
       "    </tr>\n",
       "    <tr>\n",
       "      <th>1</th>\n",
       "      <td>2020-12-12</td>\n",
       "      <td>ASHOKLEYLAND_STILE_LE7STR_DIESEL_2012</td>\n",
       "      <td>2012</td>\n",
       "      <td>ASHOKLEYLAND</td>\n",
       "      <td>STILE</td>\n",
       "      <td>LE7STR</td>\n",
       "      <td>DIESEL</td>\n",
       "      <td>232934.000</td>\n",
       "      <td>MAHARASHTRA</td>\n",
       "      <td>98040.000</td>\n",
       "      <td>OEM</td>\n",
       "      <td>2020</td>\n",
       "      <td>12</td>\n",
       "      <td>12</td>\n",
       "      <td>8</td>\n",
       "    </tr>\n",
       "    <tr>\n",
       "      <th>2</th>\n",
       "      <td>2021-12-12</td>\n",
       "      <td>ASHOKLEYLAND_STILE_LE7STR_DIESEL_2012</td>\n",
       "      <td>2012</td>\n",
       "      <td>ASHOKLEYLAND</td>\n",
       "      <td>STILE</td>\n",
       "      <td>LE7STR</td>\n",
       "      <td>DIESEL</td>\n",
       "      <td>197994.000</td>\n",
       "      <td>ANDHRAPRADESH</td>\n",
       "      <td>108990.000</td>\n",
       "      <td>OEM</td>\n",
       "      <td>2021</td>\n",
       "      <td>12</td>\n",
       "      <td>12</td>\n",
       "      <td>9</td>\n",
       "    </tr>\n",
       "    <tr>\n",
       "      <th>3</th>\n",
       "      <td>2022-12-12</td>\n",
       "      <td>ASHOKLEYLAND_STILE_LE7STR_DIESEL_2012</td>\n",
       "      <td>2012</td>\n",
       "      <td>ASHOKLEYLAND</td>\n",
       "      <td>STILE</td>\n",
       "      <td>LE7STR</td>\n",
       "      <td>DIESEL</td>\n",
       "      <td>168295.000</td>\n",
       "      <td>JHARKHAND</td>\n",
       "      <td>119940.000</td>\n",
       "      <td>OEM</td>\n",
       "      <td>2022</td>\n",
       "      <td>12</td>\n",
       "      <td>12</td>\n",
       "      <td>10</td>\n",
       "    </tr>\n",
       "    <tr>\n",
       "      <th>4</th>\n",
       "      <td>2016-09-17</td>\n",
       "      <td>ASHOKLEYLAND_STILE_LE7STR_DIESEL_2013</td>\n",
       "      <td>2013</td>\n",
       "      <td>ASHOKLEYLAND</td>\n",
       "      <td>STILE</td>\n",
       "      <td>LE7STR</td>\n",
       "      <td>DIESEL</td>\n",
       "      <td>300000.000</td>\n",
       "      <td>TAMILNADU</td>\n",
       "      <td>40650.000</td>\n",
       "      <td>RETAIL</td>\n",
       "      <td>2016</td>\n",
       "      <td>9</td>\n",
       "      <td>17</td>\n",
       "      <td>3</td>\n",
       "    </tr>\n",
       "  </tbody>\n",
       "</table>\n",
       "</div>"
      ],
      "text/plain": [
       "   SOLD_DATE                             MIXMMVYEAR  MAKE_YEAR    Make_Clean  \\\n",
       "0 2019-12-12  ASHOKLEYLAND_STILE_LE7STR_DIESEL_2012       2012  ASHOKLEYLAND   \n",
       "1 2020-12-12  ASHOKLEYLAND_STILE_LE7STR_DIESEL_2012       2012  ASHOKLEYLAND   \n",
       "2 2021-12-12  ASHOKLEYLAND_STILE_LE7STR_DIESEL_2012       2012  ASHOKLEYLAND   \n",
       "3 2022-12-12  ASHOKLEYLAND_STILE_LE7STR_DIESEL_2012       2012  ASHOKLEYLAND   \n",
       "4 2016-09-17  ASHOKLEYLAND_STILE_LE7STR_DIESEL_2013       2013  ASHOKLEYLAND   \n",
       "\n",
       "  Model_Clean Variant_Clean Fuel_Clean  SOLDAMOUNT CV_State_Clean  \\\n",
       "0       STILE        LE7STR     DIESEL  274040.000  MADHYAPRADESH   \n",
       "1       STILE        LE7STR     DIESEL  232934.000    MAHARASHTRA   \n",
       "2       STILE        LE7STR     DIESEL  197994.000  ANDHRAPRADESH   \n",
       "3       STILE        LE7STR     DIESEL  168295.000      JHARKHAND   \n",
       "4       STILE        LE7STR     DIESEL  300000.000      TAMILNADU   \n",
       "\n",
       "   METERREADING SELLER_SEGMENT  SOLD_YEAR  SOLD_MONTH  SOLD_DAY  CV_AGE  \n",
       "0     87060.000            OEM       2019          12        12       7  \n",
       "1     98040.000            OEM       2020          12        12       8  \n",
       "2    108990.000            OEM       2021          12        12       9  \n",
       "3    119940.000            OEM       2022          12        12      10  \n",
       "4     40650.000         RETAIL       2016           9        17       3  "
      ]
     },
     "execution_count": 25,
     "metadata": {},
     "output_type": "execute_result"
    }
   ],
   "source": [
    "df2.head()"
   ]
  },
  {
   "cell_type": "code",
   "execution_count": 26,
   "id": "d7b39ea6",
   "metadata": {},
   "outputs": [
    {
     "data": {
      "text/plain": [
       "<AxesSubplot: >"
      ]
     },
     "execution_count": 26,
     "metadata": {},
     "output_type": "execute_result"
    },
    {
     "data": {
      "image/png": "[encoded data removed]",
      "text/plain": [
       "<Figure size 1000x700 with 1 Axes>"
      ]
     },
     "metadata": {},
     "output_type": "display_data"
    }
   ],
   "source": [
    "plt.figure(figsize=(10,7))\n",
    "df2['CV_State_Clean'].value_counts().plot(kind='bar')"
   ]
  },
  {
   "cell_type": "code",
   "execution_count": 27,
   "id": "e9f8c9a4",
   "metadata": {},
   "outputs": [
    {
     "data": {
      "text/plain": [
       "<AxesSubplot: >"
      ]
     },
     "execution_count": 27,
     "metadata": {},
     "output_type": "execute_result"
    },
    {
     "data": {
      "image/png": "[encoded data removed]",
      "text/plain": [
       "<Figure size 1000x700 with 1 Axes>"
      ]
     },
     "metadata": {},
     "output_type": "display_data"
    }
   ],
   "source": [
    "plt.figure(figsize=(10,7))\n",
    "df2['Make_Clean'].value_counts().plot(kind='bar')"
   ]
  },
  {
   "cell_type": "code",
   "execution_count": 28,
   "id": "6015aa56",
   "metadata": {},
   "outputs": [
    {
     "data": {
      "text/plain": [
       "<AxesSubplot: >"
      ]
     },
     "execution_count": 28,
     "metadata": {},
     "output_type": "execute_result"
    },
    {
     "data": {
      "image/png": "[encoded data removed]",
      "text/plain": [
       "<Figure size 640x480 with 1 Axes>"
      ]
     },
     "metadata": {},
     "output_type": "display_data"
    }
   ],
   "source": [
    "df2['SELLER_SEGMENT'].value_counts().plot(kind='bar')"
   ]
  },
  {
   "cell_type": "code",
   "execution_count": 29,
   "id": "af1e5053",
   "metadata": {},
   "outputs": [
    {
     "data": {
      "text/html": [
       "<div>\n",
       "<style scoped>\n",
       "    .dataframe tbody tr th:only-of-type {\n",
       "        vertical-align: middle;\n",
       "    }\n",
       "\n",
       "    .dataframe tbody tr th {\n",
       "        vertical-align: top;\n",
       "    }\n",
       "\n",
       "    .dataframe thead th {\n",
       "        text-align: right;\n",
       "    }\n",
       "</style>\n",
       "<table border=\"1\" class=\"dataframe\">\n",
       "  <thead>\n",
       "    <tr style=\"text-align: right;\">\n",
       "      <th></th>\n",
       "      <th>MAKE_YEAR</th>\n",
       "      <th>SOLDAMOUNT</th>\n",
       "      <th>METERREADING</th>\n",
       "      <th>SOLD_YEAR</th>\n",
       "      <th>SOLD_MONTH</th>\n",
       "      <th>SOLD_DAY</th>\n",
       "      <th>CV_AGE</th>\n",
       "    </tr>\n",
       "  </thead>\n",
       "  <tbody>\n",
       "    <tr>\n",
       "      <th>count</th>\n",
       "      <td>262800.000</td>\n",
       "      <td>262800.000</td>\n",
       "      <td>262800.000</td>\n",
       "      <td>262800.000</td>\n",
       "      <td>262800.000</td>\n",
       "      <td>262800.000</td>\n",
       "      <td>262800.000</td>\n",
       "    </tr>\n",
       "    <tr>\n",
       "      <th>mean</th>\n",
       "      <td>2011.671</td>\n",
       "      <td>405626.686</td>\n",
       "      <td>94829.429</td>\n",
       "      <td>2018.714</td>\n",
       "      <td>8.037</td>\n",
       "      <td>16.091</td>\n",
       "      <td>7.043</td>\n",
       "    </tr>\n",
       "    <tr>\n",
       "      <th>std</th>\n",
       "      <td>3.909</td>\n",
       "      <td>1963064.574</td>\n",
       "      <td>68015.215</td>\n",
       "      <td>2.830</td>\n",
       "      <td>3.648</td>\n",
       "      <td>7.853</td>\n",
       "      <td>3.452</td>\n",
       "    </tr>\n",
       "    <tr>\n",
       "      <th>min</th>\n",
       "      <td>1991.000</td>\n",
       "      <td>20000.000</td>\n",
       "      <td>300.000</td>\n",
       "      <td>2012.000</td>\n",
       "      <td>1.000</td>\n",
       "      <td>1.000</td>\n",
       "      <td>0.000</td>\n",
       "    </tr>\n",
       "    <tr>\n",
       "      <th>25%</th>\n",
       "      <td>2009.000</td>\n",
       "      <td>85000.000</td>\n",
       "      <td>49830.000</td>\n",
       "      <td>2017.000</td>\n",
       "      <td>5.000</td>\n",
       "      <td>12.000</td>\n",
       "      <td>5.000</td>\n",
       "    </tr>\n",
       "    <tr>\n",
       "      <th>50%</th>\n",
       "      <td>2011.000</td>\n",
       "      <td>169000.000</td>\n",
       "      <td>83220.000</td>\n",
       "      <td>2019.000</td>\n",
       "      <td>9.000</td>\n",
       "      <td>14.000</td>\n",
       "      <td>7.000</td>\n",
       "    </tr>\n",
       "    <tr>\n",
       "      <th>75%</th>\n",
       "      <td>2015.000</td>\n",
       "      <td>315000.000</td>\n",
       "      <td>121380.000</td>\n",
       "      <td>2021.000</td>\n",
       "      <td>12.000</td>\n",
       "      <td>23.000</td>\n",
       "      <td>9.000</td>\n",
       "    </tr>\n",
       "    <tr>\n",
       "      <th>max</th>\n",
       "      <td>2023.000</td>\n",
       "      <td>113800500.000</td>\n",
       "      <td>2682857.000</td>\n",
       "      <td>2023.000</td>\n",
       "      <td>12.000</td>\n",
       "      <td>31.000</td>\n",
       "      <td>32.000</td>\n",
       "    </tr>\n",
       "  </tbody>\n",
       "</table>\n",
       "</div>"
      ],
      "text/plain": [
       "       MAKE_YEAR    SOLDAMOUNT  METERREADING  SOLD_YEAR  SOLD_MONTH  \\\n",
       "count 262800.000    262800.000    262800.000 262800.000  262800.000   \n",
       "mean    2011.671    405626.686     94829.429   2018.714       8.037   \n",
       "std        3.909   1963064.574     68015.215      2.830       3.648   \n",
       "min     1991.000     20000.000       300.000   2012.000       1.000   \n",
       "25%     2009.000     85000.000     49830.000   2017.000       5.000   \n",
       "50%     2011.000    169000.000     83220.000   2019.000       9.000   \n",
       "75%     2015.000    315000.000    121380.000   2021.000      12.000   \n",
       "max     2023.000 113800500.000   2682857.000   2023.000      12.000   \n",
       "\n",
       "        SOLD_DAY     CV_AGE  \n",
       "count 262800.000 262800.000  \n",
       "mean      16.091      7.043  \n",
       "std        7.853      3.452  \n",
       "min        1.000      0.000  \n",
       "25%       12.000      5.000  \n",
       "50%       14.000      7.000  \n",
       "75%       23.000      9.000  \n",
       "max       31.000     32.000  "
      ]
     },
     "execution_count": 29,
     "metadata": {},
     "output_type": "execute_result"
    }
   ],
   "source": [
    "df2.describe()"
   ]
  },
  {
   "cell_type": "code",
   "execution_count": 30,
   "id": "d04e3d6b",
   "metadata": {},
   "outputs": [],
   "source": [
    "import matplotlib.ticker as ticker"
   ]
  },
  {
   "cell_type": "code",
   "execution_count": 31,
   "id": "d47ad938",
   "metadata": {},
   "outputs": [
    {
     "data": {
      "image/png": "[encoded data removed]",
      "text/plain": [
       "<Figure size 1000x600 with 1 Axes>"
      ]
     },
     "metadata": {},
     "output_type": "display_data"
    }
   ],
   "source": [
    "plt.figure(figsize=(10,6))\n",
    "ax=sns.barplot(x=df2['CV_State_Clean'], y=df2['SOLDAMOUNT'])\n",
    "plt.xticks(rotation='vertical')\n",
    "def format_thousands(x, pos):\n",
    "    return f'{int(x / 1000)}K'\n",
    "\n",
    "# Apply the custom formatter to the y-axis\n",
    "ax.yaxis.set_major_formatter(ticker.FuncFormatter(format_thousands))\n",
    "plt.show()"
   ]
  },
  {
   "cell_type": "code",
   "execution_count": 32,
   "id": "ed92c86e",
   "metadata": {},
   "outputs": [],
   "source": [
    "df3= df2[['MAKE_YEAR','Make_Clean','Model_Clean','Variant_Clean','Fuel_Clean','CV_State_Clean','SELLER_SEGMENT','METERREADING','SOLDAMOUNT']]"
   ]
  },
  {
   "cell_type": "code",
   "execution_count": 33,
   "id": "8e1f6ba3",
   "metadata": {},
   "outputs": [
    {
     "data": {
      "text/plain": [
       "Index(['MAKE_YEAR', 'Make_Clean', 'Model_Clean', 'Variant_Clean', 'Fuel_Clean',\n",
       "       'CV_State_Clean', 'SELLER_SEGMENT', 'METERREADING', 'SOLDAMOUNT'],\n",
       "      dtype='object')"
      ]
     },
     "execution_count": 33,
     "metadata": {},
     "output_type": "execute_result"
    }
   ],
   "source": [
    "df3.columns"
   ]
  },
  {
   "cell_type": "code",
   "execution_count": 34,
   "id": "0f94b637",
   "metadata": {},
   "outputs": [],
   "source": [
    "def uppper(df3,col):\n",
    "    df3[col]=df3[col].str.upper()\n",
    "    df3[col]=df3[col].str.replace(' ','')\n",
    "    return df3[col]\n",
    "\n",
    "def encoding(df3,col,col_1,model):\n",
    "    print(model.head())\n",
    "    temp = pd.read_csv(df3+'.csv',encoding='CP1252')\n",
    "    temp[col]=uppper(temp,col)\n",
    "    model_temp = pd.DataFrame()\n",
    "    labels_temp_map = dict(zip(temp[col],temp['Id (Encoding)']))\n",
    "    model_temp[col_1] = model[col_1].map(labels_temp_map)\n",
    "    print(model.head())\n",
    "    return model_temp[col_1]\n",
    "\n",
    "def df_reset(df3):\n",
    "    return pd.DataFrame()"
   ]
  },
  {
   "cell_type": "code",
   "execution_count": 35,
   "id": "d0d1a6a7",
   "metadata": {},
   "outputs": [
    {
     "data": {
      "text/plain": [
       "Index(['MAKE_YEAR', 'Make_Clean', 'Model_Clean', 'Variant_Clean', 'Fuel_Clean',\n",
       "       'CV_State_Clean', 'SELLER_SEGMENT', 'METERREADING', 'SOLDAMOUNT'],\n",
       "      dtype='object')"
      ]
     },
     "execution_count": 35,
     "metadata": {},
     "output_type": "execute_result"
    }
   ],
   "source": [
    "df3.keys()"
   ]
  },
  {
   "cell_type": "code",
   "execution_count": 36,
   "id": "c4110a60",
   "metadata": {},
   "outputs": [],
   "source": [
    "df3['Make_Clean']=uppper(df3,'Make_Clean')\n",
    "df3['Model_Clean']=uppper(df3,'Model_Clean')\n",
    "df3['Variant_Clean']=uppper(df3,'Variant_Clean')\n",
    "df3['Fuel_Clean']=uppper(df3,'Fuel_Clean')\n",
    "df3['CV_State_Clean']=uppper(df3,'CV_State_Clean')"
   ]
  },
  {
   "cell_type": "code",
   "execution_count": 37,
   "id": "e0da1bca",
   "metadata": {},
   "outputs": [],
   "source": [
    "X=df3.drop(['SOLDAMOUNT'],axis=1)\n",
    "y=df3[['SOLDAMOUNT']]"
   ]
  },
  {
   "cell_type": "code",
   "execution_count": 38,
   "id": "ea800cdd",
   "metadata": {},
   "outputs": [],
   "source": [
    "from sklearn.preprocessing import OneHotEncoder\n",
    "from sklearn.compose import make_column_transformer\n",
    "from sklearn.pipeline import make_pipeline\n",
    "from sklearn.metrics import r2_score"
   ]
  },
  {
   "cell_type": "code",
   "execution_count": 39,
   "id": "9bfb31e4",
   "metadata": {},
   "outputs": [
    {
     "data": {
      "text/html": [
       "<style>#sk-container-id-1 {color: black;}#sk-container-id-1 pre{padding: 0;}#sk-container-id-1 div.sk-toggleable {background-color: white;}#sk-container-id-1 label.sk-toggleable__label {cursor: pointer;display: block;width: 100%;margin-bottom: 0;padding: 0.3em;box-sizing: border-box;text-align: center;}#sk-container-id-1 label.sk-toggleable__label-arrow:before {content: \"▸\";float: left;margin-right: 0.25em;color: #696969;}#sk-container-id-1 label.sk-toggleable__label-arrow:hover:before {color: black;}#sk-container-id-1 div.sk-estimator:hover label.sk-toggleable__label-arrow:before {color: black;}#sk-container-id-1 div.sk-toggleable__content {max-height: 0;max-width: 0;overflow: hidden;text-align: left;background-color: #f0f8ff;}#sk-container-id-1 div.sk-toggleable__content pre {margin: 0.2em;color: black;border-radius: 0.25em;background-color: #f0f8ff;}#sk-container-id-1 input.sk-toggleable__control:checked~div.sk-toggleable__content {max-height: 200px;max-width: 100%;overflow: auto;}#sk-container-id-1 input.sk-toggleable__control:checked~label.sk-toggleable__label-arrow:before {content: \"▾\";}#sk-container-id-1 div.sk-estimator input.sk-toggleable__control:checked~label.sk-toggleable__label {background-color: #d4ebff;}#sk-container-id-1 div.sk-label input.sk-toggleable__control:checked~label.sk-toggleable__label {background-color: #d4ebff;}#sk-container-id-1 input.sk-hidden--visually {border: 0;clip: rect(1px 1px 1px 1px);clip: rect(1px, 1px, 1px, 1px);height: 1px;margin: -1px;overflow: hidden;padding: 0;position: absolute;width: 1px;}#sk-container-id-1 div.sk-estimator {font-family: monospace;background-color: #f0f8ff;border: 1px dotted black;border-radius: 0.25em;box-sizing: border-box;margin-bottom: 0.5em;}#sk-container-id-1 div.sk-estimator:hover {background-color: #d4ebff;}#sk-container-id-1 div.sk-parallel-item::after {content: \"\";width: 100%;border-bottom: 1px solid gray;flex-grow: 1;}#sk-container-id-1 div.sk-label:hover label.sk-toggleable__label {background-color: #d4ebff;}#sk-container-id-1 div.sk-serial::before {content: \"\";position: absolute;border-left: 1px solid gray;box-sizing: border-box;top: 0;bottom: 0;left: 50%;z-index: 0;}#sk-container-id-1 div.sk-serial {display: flex;flex-direction: column;align-items: center;background-color: white;padding-right: 0.2em;padding-left: 0.2em;position: relative;}#sk-container-id-1 div.sk-item {position: relative;z-index: 1;}#sk-container-id-1 div.sk-parallel {display: flex;align-items: stretch;justify-content: center;background-color: white;position: relative;}#sk-container-id-1 div.sk-item::before, #sk-container-id-1 div.sk-parallel-item::before {content: \"\";position: absolute;border-left: 1px solid gray;box-sizing: border-box;top: 0;bottom: 0;left: 50%;z-index: -1;}#sk-container-id-1 div.sk-parallel-item {display: flex;flex-direction: column;z-index: 1;position: relative;background-color: white;}#sk-container-id-1 div.sk-parallel-item:first-child::after {align-self: flex-end;width: 50%;}#sk-container-id-1 div.sk-parallel-item:last-child::after {align-self: flex-start;width: 50%;}#sk-container-id-1 div.sk-parallel-item:only-child::after {width: 0;}#sk-container-id-1 div.sk-dashed-wrapped {border: 1px dashed gray;margin: 0 0.4em 0.5em 0.4em;box-sizing: border-box;padding-bottom: 0.4em;background-color: white;}#sk-container-id-1 div.sk-label label {font-family: monospace;font-weight: bold;display: inline-block;line-height: 1.2em;}#sk-container-id-1 div.sk-label-container {text-align: center;}#sk-container-id-1 div.sk-container {/* jupyter's `normalize.less` sets `[hidden] { display: none; }` but bootstrap.min.css set `[hidden] { display: none !important; }` so we also need the `!important` here to be able to override the default hidden behavior on the sphinx rendered scikit-learn.org. See: https://github.com/scikit-learn/scikit-learn/issues/21755 */display: inline-block !important;position: relative;}#sk-container-id-1 div.sk-text-repr-fallback {display: none;}</style><div id=\"sk-container-id-1\" class=\"sk-top-container\"><div class=\"sk-text-repr-fallback\"><pre>OneHotEncoder()</pre><b>In a Jupyter environment, please rerun this cell to show the HTML representation or trust the notebook. <br />On GitHub, the HTML representation is unable to render, please try loading this page with nbviewer.org.</b></div><div class=\"sk-container\" hidden><div class=\"sk-item\"><div class=\"sk-estimator sk-toggleable\"><input class=\"sk-toggleable__control sk-hidden--visually\" id=\"sk-estimator-id-1\" type=\"checkbox\" checked><label for=\"sk-estimator-id-1\" class=\"sk-toggleable__label sk-toggleable__label-arrow\">OneHotEncoder</label><div class=\"sk-toggleable__content\"><pre>OneHotEncoder()</pre></div></div></div></div></div>"
      ],
      "text/plain": [
       "OneHotEncoder()"
      ]
     },
     "execution_count": 39,
     "metadata": {},
     "output_type": "execute_result"
    }
   ],
   "source": [
    "ohe=OneHotEncoder()\n",
    "ohe.fit(X[['Make_Clean','Model_Clean','Variant_Clean','Fuel_Clean','CV_State_Clean','SELLER_SEGMENT']])"
   ]
  },
  {
   "cell_type": "code",
   "execution_count": 40,
   "id": "3e4fac17",
   "metadata": {},
   "outputs": [],
   "source": [
    "column_trans=make_column_transformer((OneHotEncoder(categories=ohe.categories_),['Make_Clean','Model_Clean','Variant_Clean','Fuel_Clean','CV_State_Clean','SELLER_SEGMENT']),remainder='passthrough')"
   ]
  },
  {
   "cell_type": "code",
   "execution_count": 41,
   "id": "46d0c842",
   "metadata": {},
   "outputs": [
    {
     "data": {
      "text/html": [
       "<style>#sk-container-id-2 {color: black;}#sk-container-id-2 pre{padding: 0;}#sk-container-id-2 div.sk-toggleable {background-color: white;}#sk-container-id-2 label.sk-toggleable__label {cursor: pointer;display: block;width: 100%;margin-bottom: 0;padding: 0.3em;box-sizing: border-box;text-align: center;}#sk-container-id-2 label.sk-toggleable__label-arrow:before {content: \"▸\";float: left;margin-right: 0.25em;color: #696969;}#sk-container-id-2 label.sk-toggleable__label-arrow:hover:before {color: black;}#sk-container-id-2 div.sk-estimator:hover label.sk-toggleable__label-arrow:before {color: black;}#sk-container-id-2 div.sk-toggleable__content {max-height: 0;max-width: 0;overflow: hidden;text-align: left;background-color: #f0f8ff;}#sk-container-id-2 div.sk-toggleable__content pre {margin: 0.2em;color: black;border-radius: 0.25em;background-color: #f0f8ff;}#sk-container-id-2 input.sk-toggleable__control:checked~div.sk-toggleable__content {max-height: 200px;max-width: 100%;overflow: auto;}#sk-container-id-2 input.sk-toggleable__control:checked~label.sk-toggleable__label-arrow:before {content: \"▾\";}#sk-container-id-2 div.sk-estimator input.sk-toggleable__control:checked~label.sk-toggleable__label {background-color: #d4ebff;}#sk-container-id-2 div.sk-label input.sk-toggleable__control:checked~label.sk-toggleable__label {background-color: #d4ebff;}#sk-container-id-2 input.sk-hidden--visually {border: 0;clip: rect(1px 1px 1px 1px);clip: rect(1px, 1px, 1px, 1px);height: 1px;margin: -1px;overflow: hidden;padding: 0;position: absolute;width: 1px;}#sk-container-id-2 div.sk-estimator {font-family: monospace;background-color: #f0f8ff;border: 1px dotted black;border-radius: 0.25em;box-sizing: border-box;margin-bottom: 0.5em;}#sk-container-id-2 div.sk-estimator:hover {background-color: #d4ebff;}#sk-container-id-2 div.sk-parallel-item::after {content: \"\";width: 100%;border-bottom: 1px solid gray;flex-grow: 1;}#sk-container-id-2 div.sk-label:hover label.sk-toggleable__label {background-color: #d4ebff;}#sk-container-id-2 div.sk-serial::before {content: \"\";position: absolute;border-left: 1px solid gray;box-sizing: border-box;top: 0;bottom: 0;left: 50%;z-index: 0;}#sk-container-id-2 div.sk-serial {display: flex;flex-direction: column;align-items: center;background-color: white;padding-right: 0.2em;padding-left: 0.2em;position: relative;}#sk-container-id-2 div.sk-item {position: relative;z-index: 1;}#sk-container-id-2 div.sk-parallel {display: flex;align-items: stretch;justify-content: center;background-color: white;position: relative;}#sk-container-id-2 div.sk-item::before, #sk-container-id-2 div.sk-parallel-item::before {content: \"\";position: absolute;border-left: 1px solid gray;box-sizing: border-box;top: 0;bottom: 0;left: 50%;z-index: -1;}#sk-container-id-2 div.sk-parallel-item {display: flex;flex-direction: column;z-index: 1;position: relative;background-color: white;}#sk-container-id-2 div.sk-parallel-item:first-child::after {align-self: flex-end;width: 50%;}#sk-container-id-2 div.sk-parallel-item:last-child::after {align-self: flex-start;width: 50%;}#sk-container-id-2 div.sk-parallel-item:only-child::after {width: 0;}#sk-container-id-2 div.sk-dashed-wrapped {border: 1px dashed gray;margin: 0 0.4em 0.5em 0.4em;box-sizing: border-box;padding-bottom: 0.4em;background-color: white;}#sk-container-id-2 div.sk-label label {font-family: monospace;font-weight: bold;display: inline-block;line-height: 1.2em;}#sk-container-id-2 div.sk-label-container {text-align: center;}#sk-container-id-2 div.sk-container {/* jupyter's `normalize.less` sets `[hidden] { display: none; }` but bootstrap.min.css set `[hidden] { display: none !important; }` so we also need the `!important` here to be able to override the default hidden behavior on the sphinx rendered scikit-learn.org. See: https://github.com/scikit-learn/scikit-learn/issues/21755 */display: inline-block !important;position: relative;}#sk-container-id-2 div.sk-text-repr-fallback {display: none;}</style><div id=\"sk-container-id-2\" class=\"sk-top-container\"><div class=\"sk-text-repr-fallback\"><pre>ColumnTransformer(remainder=&#x27;passthrough&#x27;,\n",
       "                  transformers=[(&#x27;onehotencoder&#x27;,\n",
       "                                 OneHotEncoder(categories=[array([&#x27;ASHOKLEYLAND&#x27;, &#x27;ASTONMARTIN&#x27;, &#x27;AUDI&#x27;, &#x27;BAJAJ&#x27;, &#x27;BENTLEY&#x27;, &#x27;BMW&#x27;,\n",
       "       &#x27;BUGATTI&#x27;, &#x27;CHEVROLET&#x27;, &#x27;CRYSLER&#x27;, &#x27;DATSUN&#x27;, &#x27;DC&#x27;, &#x27;FERRARI&#x27;,\n",
       "       &#x27;FIAT&#x27;, &#x27;FORCE&#x27;, &#x27;FORD&#x27;, &#x27;HINDUSTAN&#x27;, &#x27;HONDA&#x27;, &#x27;HYUNDAI&#x27;, &#x27;ICML&#x27;,\n",
       "       &#x27;JAGUAR&#x27;, &#x27;JEEP&#x27;, &#x27;KIA&#x27;, &#x27;LAMBORGHINI&#x27;, &#x27;LANDROVER&#x27;, &#x27;MAHINDRA&#x27;,\n",
       "       &#x27;MAHINDRAR...\n",
       "       &#x27;KERALA&#x27;, &#x27;LAKSHADWEEP&#x27;, &#x27;MADHYAPRADESH&#x27;, &#x27;MAHARASHTRA&#x27;, &#x27;MANIPUR&#x27;,\n",
       "       &#x27;MEGHALAYA&#x27;, &#x27;MIZORAM&#x27;, &#x27;NAGALAND&#x27;, &#x27;ODISHA&#x27;, &#x27;PUDUCHERRY&#x27;,\n",
       "       &#x27;PUNJAB&#x27;, &#x27;RAJASTHAN&#x27;, &#x27;SIKKIM&#x27;, &#x27;TAMILNADU&#x27;, &#x27;TELANGANA&#x27;,\n",
       "       &#x27;TRIPURA&#x27;, &#x27;UTTARAKHAND&#x27;, &#x27;UTTARPRADESH&#x27;, &#x27;WESTBENGAL&#x27;],\n",
       "      dtype=object),\n",
       "                                                           array([&#x27;BANK&amp;NBFC&#x27;, &#x27;INSURANCE&#x27;, &#x27;LEASING&#x27;, &#x27;OEM&#x27;, &#x27;RETAIL&#x27;], dtype=object)]),\n",
       "                                 [&#x27;Make_Clean&#x27;, &#x27;Model_Clean&#x27;, &#x27;Variant_Clean&#x27;,\n",
       "                                  &#x27;Fuel_Clean&#x27;, &#x27;CV_State_Clean&#x27;,\n",
       "                                  &#x27;SELLER_SEGMENT&#x27;])])</pre><b>In a Jupyter environment, please rerun this cell to show the HTML representation or trust the notebook. <br />On GitHub, the HTML representation is unable to render, please try loading this page with nbviewer.org.</b></div><div class=\"sk-container\" hidden><div class=\"sk-item sk-dashed-wrapped\"><div class=\"sk-label-container\"><div class=\"sk-label sk-toggleable\"><input class=\"sk-toggleable__control sk-hidden--visually\" id=\"sk-estimator-id-2\" type=\"checkbox\" ><label for=\"sk-estimator-id-2\" class=\"sk-toggleable__label sk-toggleable__label-arrow\">ColumnTransformer</label><div class=\"sk-toggleable__content\"><pre>ColumnTransformer(remainder=&#x27;passthrough&#x27;,\n",
       "                  transformers=[(&#x27;onehotencoder&#x27;,\n",
       "                                 OneHotEncoder(categories=[array([&#x27;ASHOKLEYLAND&#x27;, &#x27;ASTONMARTIN&#x27;, &#x27;AUDI&#x27;, &#x27;BAJAJ&#x27;, &#x27;BENTLEY&#x27;, &#x27;BMW&#x27;,\n",
       "       &#x27;BUGATTI&#x27;, &#x27;CHEVROLET&#x27;, &#x27;CRYSLER&#x27;, &#x27;DATSUN&#x27;, &#x27;DC&#x27;, &#x27;FERRARI&#x27;,\n",
       "       &#x27;FIAT&#x27;, &#x27;FORCE&#x27;, &#x27;FORD&#x27;, &#x27;HINDUSTAN&#x27;, &#x27;HONDA&#x27;, &#x27;HYUNDAI&#x27;, &#x27;ICML&#x27;,\n",
       "       &#x27;JAGUAR&#x27;, &#x27;JEEP&#x27;, &#x27;KIA&#x27;, &#x27;LAMBORGHINI&#x27;, &#x27;LANDROVER&#x27;, &#x27;MAHINDRA&#x27;,\n",
       "       &#x27;MAHINDRAR...\n",
       "       &#x27;KERALA&#x27;, &#x27;LAKSHADWEEP&#x27;, &#x27;MADHYAPRADESH&#x27;, &#x27;MAHARASHTRA&#x27;, &#x27;MANIPUR&#x27;,\n",
       "       &#x27;MEGHALAYA&#x27;, &#x27;MIZORAM&#x27;, &#x27;NAGALAND&#x27;, &#x27;ODISHA&#x27;, &#x27;PUDUCHERRY&#x27;,\n",
       "       &#x27;PUNJAB&#x27;, &#x27;RAJASTHAN&#x27;, &#x27;SIKKIM&#x27;, &#x27;TAMILNADU&#x27;, &#x27;TELANGANA&#x27;,\n",
       "       &#x27;TRIPURA&#x27;, &#x27;UTTARAKHAND&#x27;, &#x27;UTTARPRADESH&#x27;, &#x27;WESTBENGAL&#x27;],\n",
       "      dtype=object),\n",
       "                                                           array([&#x27;BANK&amp;NBFC&#x27;, &#x27;INSURANCE&#x27;, &#x27;LEASING&#x27;, &#x27;OEM&#x27;, &#x27;RETAIL&#x27;], dtype=object)]),\n",
       "                                 [&#x27;Make_Clean&#x27;, &#x27;Model_Clean&#x27;, &#x27;Variant_Clean&#x27;,\n",
       "                                  &#x27;Fuel_Clean&#x27;, &#x27;CV_State_Clean&#x27;,\n",
       "                                  &#x27;SELLER_SEGMENT&#x27;])])</pre></div></div></div><div class=\"sk-parallel\"><div class=\"sk-parallel-item\"><div class=\"sk-item\"><div class=\"sk-label-container\"><div class=\"sk-label sk-toggleable\"><input class=\"sk-toggleable__control sk-hidden--visually\" id=\"sk-estimator-id-3\" type=\"checkbox\" ><label for=\"sk-estimator-id-3\" class=\"sk-toggleable__label sk-toggleable__label-arrow\">onehotencoder</label><div class=\"sk-toggleable__content\"><pre>[&#x27;Make_Clean&#x27;, &#x27;Model_Clean&#x27;, &#x27;Variant_Clean&#x27;, &#x27;Fuel_Clean&#x27;, &#x27;CV_State_Clean&#x27;, &#x27;SELLER_SEGMENT&#x27;]</pre></div></div></div><div class=\"sk-serial\"><div class=\"sk-item\"><div class=\"sk-estimator sk-toggleable\"><input class=\"sk-toggleable__control sk-hidden--visually\" id=\"sk-estimator-id-4\" type=\"checkbox\" ><label for=\"sk-estimator-id-4\" class=\"sk-toggleable__label sk-toggleable__label-arrow\">OneHotEncoder</label><div class=\"sk-toggleable__content\"><pre>OneHotEncoder(categories=[array([&#x27;ASHOKLEYLAND&#x27;, &#x27;ASTONMARTIN&#x27;, &#x27;AUDI&#x27;, &#x27;BAJAJ&#x27;, &#x27;BENTLEY&#x27;, &#x27;BMW&#x27;,\n",
       "       &#x27;BUGATTI&#x27;, &#x27;CHEVROLET&#x27;, &#x27;CRYSLER&#x27;, &#x27;DATSUN&#x27;, &#x27;DC&#x27;, &#x27;FERRARI&#x27;,\n",
       "       &#x27;FIAT&#x27;, &#x27;FORCE&#x27;, &#x27;FORD&#x27;, &#x27;HINDUSTAN&#x27;, &#x27;HONDA&#x27;, &#x27;HYUNDAI&#x27;, &#x27;ICML&#x27;,\n",
       "       &#x27;JAGUAR&#x27;, &#x27;JEEP&#x27;, &#x27;KIA&#x27;, &#x27;LAMBORGHINI&#x27;, &#x27;LANDROVER&#x27;, &#x27;MAHINDRA&#x27;,\n",
       "       &#x27;MAHINDRARENAULT&#x27;, &#x27;MARUTISUZUKI&#x27;, &#x27;MASERATI&#x27;, &#x27;MAZDA&#x27;,\n",
       "       &#x27;MERCEDESBENZ&#x27;, &#x27;MG&#x27;, &#x27;MINI&#x27;, &#x27;MIT...\n",
       "       &#x27;HIMACHALPRADESH&#x27;, &#x27;JAMMU&amp;KASHMIR&#x27;, &#x27;JHARKHAND&#x27;, &#x27;KARNATAKA&#x27;,\n",
       "       &#x27;KERALA&#x27;, &#x27;LAKSHADWEEP&#x27;, &#x27;MADHYAPRADESH&#x27;, &#x27;MAHARASHTRA&#x27;, &#x27;MANIPUR&#x27;,\n",
       "       &#x27;MEGHALAYA&#x27;, &#x27;MIZORAM&#x27;, &#x27;NAGALAND&#x27;, &#x27;ODISHA&#x27;, &#x27;PUDUCHERRY&#x27;,\n",
       "       &#x27;PUNJAB&#x27;, &#x27;RAJASTHAN&#x27;, &#x27;SIKKIM&#x27;, &#x27;TAMILNADU&#x27;, &#x27;TELANGANA&#x27;,\n",
       "       &#x27;TRIPURA&#x27;, &#x27;UTTARAKHAND&#x27;, &#x27;UTTARPRADESH&#x27;, &#x27;WESTBENGAL&#x27;],\n",
       "      dtype=object),\n",
       "                          array([&#x27;BANK&amp;NBFC&#x27;, &#x27;INSURANCE&#x27;, &#x27;LEASING&#x27;, &#x27;OEM&#x27;, &#x27;RETAIL&#x27;], dtype=object)])</pre></div></div></div></div></div></div><div class=\"sk-parallel-item\"><div class=\"sk-item\"><div class=\"sk-label-container\"><div class=\"sk-label sk-toggleable\"><input class=\"sk-toggleable__control sk-hidden--visually\" id=\"sk-estimator-id-5\" type=\"checkbox\" ><label for=\"sk-estimator-id-5\" class=\"sk-toggleable__label sk-toggleable__label-arrow\">remainder</label><div class=\"sk-toggleable__content\"><pre></pre></div></div></div><div class=\"sk-serial\"><div class=\"sk-item\"><div class=\"sk-estimator sk-toggleable\"><input class=\"sk-toggleable__control sk-hidden--visually\" id=\"sk-estimator-id-6\" type=\"checkbox\" ><label for=\"sk-estimator-id-6\" class=\"sk-toggleable__label sk-toggleable__label-arrow\">passthrough</label><div class=\"sk-toggleable__content\"><pre>passthrough</pre></div></div></div></div></div></div></div></div></div></div>"
      ],
      "text/plain": [
       "ColumnTransformer(remainder='passthrough',\n",
       "                  transformers=[('onehotencoder',\n",
       "                                 OneHotEncoder(categories=[array(['ASHOKLEYLAND', 'ASTONMARTIN', 'AUDI', 'BAJAJ', 'BENTLEY', 'BMW',\n",
       "       'BUGATTI', 'CHEVROLET', 'CRYSLER', 'DATSUN', 'DC', 'FERRARI',\n",
       "       'FIAT', 'FORCE', 'FORD', 'HINDUSTAN', 'HONDA', 'HYUNDAI', 'ICML',\n",
       "       'JAGUAR', 'JEEP', 'KIA', 'LAMBORGHINI', 'LANDROVER', 'MAHINDRA',\n",
       "       'MAHINDRAR...\n",
       "       'KERALA', 'LAKSHADWEEP', 'MADHYAPRADESH', 'MAHARASHTRA', 'MANIPUR',\n",
       "       'MEGHALAYA', 'MIZORAM', 'NAGALAND', 'ODISHA', 'PUDUCHERRY',\n",
       "       'PUNJAB', 'RAJASTHAN', 'SIKKIM', 'TAMILNADU', 'TELANGANA',\n",
       "       'TRIPURA', 'UTTARAKHAND', 'UTTARPRADESH', 'WESTBENGAL'],\n",
       "      dtype=object),\n",
       "                                                           array(['BANK&NBFC', 'INSURANCE', 'LEASING', 'OEM', 'RETAIL'], dtype=object)]),\n",
       "                                 ['Make_Clean', 'Model_Clean', 'Variant_Clean',\n",
       "                                  'Fuel_Clean', 'CV_State_Clean',\n",
       "                                  'SELLER_SEGMENT'])])"
      ]
     },
     "execution_count": 41,
     "metadata": {},
     "output_type": "execute_result"
    }
   ],
   "source": [
    "column_trans"
   ]
  },
  {
   "cell_type": "markdown",
   "id": "30dde525",
   "metadata": {},
   "source": [
    "## Decision Tree"
   ]
  },
  {
   "cell_type": "code",
   "execution_count": 42,
   "id": "94532d22",
   "metadata": {},
   "outputs": [],
   "source": [
    "from sklearn.tree import DecisionTreeRegressor\n",
    "\n",
    "dtr = DecisionTreeRegressor(random_state=42)"
   ]
  },
  {
   "cell_type": "code",
   "execution_count": 43,
   "id": "06e85df3",
   "metadata": {},
   "outputs": [],
   "source": [
    "pipe=make_pipeline(column_trans,dtr)"
   ]
  },
  {
   "cell_type": "code",
   "execution_count": 44,
   "id": "cf01d395",
   "metadata": {},
   "outputs": [
    {
     "data": {
      "text/html": [
       "<style>#sk-container-id-3 {color: black;}#sk-container-id-3 pre{padding: 0;}#sk-container-id-3 div.sk-toggleable {background-color: white;}#sk-container-id-3 label.sk-toggleable__label {cursor: pointer;display: block;width: 100%;margin-bottom: 0;padding: 0.3em;box-sizing: border-box;text-align: center;}#sk-container-id-3 label.sk-toggleable__label-arrow:before {content: \"▸\";float: left;margin-right: 0.25em;color: #696969;}#sk-container-id-3 label.sk-toggleable__label-arrow:hover:before {color: black;}#sk-container-id-3 div.sk-estimator:hover label.sk-toggleable__label-arrow:before {color: black;}#sk-container-id-3 div.sk-toggleable__content {max-height: 0;max-width: 0;overflow: hidden;text-align: left;background-color: #f0f8ff;}#sk-container-id-3 div.sk-toggleable__content pre {margin: 0.2em;color: black;border-radius: 0.25em;background-color: #f0f8ff;}#sk-container-id-3 input.sk-toggleable__control:checked~div.sk-toggleable__content {max-height: 200px;max-width: 100%;overflow: auto;}#sk-container-id-3 input.sk-toggleable__control:checked~label.sk-toggleable__label-arrow:before {content: \"▾\";}#sk-container-id-3 div.sk-estimator input.sk-toggleable__control:checked~label.sk-toggleable__label {background-color: #d4ebff;}#sk-container-id-3 div.sk-label input.sk-toggleable__control:checked~label.sk-toggleable__label {background-color: #d4ebff;}#sk-container-id-3 input.sk-hidden--visually {border: 0;clip: rect(1px 1px 1px 1px);clip: rect(1px, 1px, 1px, 1px);height: 1px;margin: -1px;overflow: hidden;padding: 0;position: absolute;width: 1px;}#sk-container-id-3 div.sk-estimator {font-family: monospace;background-color: #f0f8ff;border: 1px dotted black;border-radius: 0.25em;box-sizing: border-box;margin-bottom: 0.5em;}#sk-container-id-3 div.sk-estimator:hover {background-color: #d4ebff;}#sk-container-id-3 div.sk-parallel-item::after {content: \"\";width: 100%;border-bottom: 1px solid gray;flex-grow: 1;}#sk-container-id-3 div.sk-label:hover label.sk-toggleable__label {background-color: #d4ebff;}#sk-container-id-3 div.sk-serial::before {content: \"\";position: absolute;border-left: 1px solid gray;box-sizing: border-box;top: 0;bottom: 0;left: 50%;z-index: 0;}#sk-container-id-3 div.sk-serial {display: flex;flex-direction: column;align-items: center;background-color: white;padding-right: 0.2em;padding-left: 0.2em;position: relative;}#sk-container-id-3 div.sk-item {position: relative;z-index: 1;}#sk-container-id-3 div.sk-parallel {display: flex;align-items: stretch;justify-content: center;background-color: white;position: relative;}#sk-container-id-3 div.sk-item::before, #sk-container-id-3 div.sk-parallel-item::before {content: \"\";position: absolute;border-left: 1px solid gray;box-sizing: border-box;top: 0;bottom: 0;left: 50%;z-index: -1;}#sk-container-id-3 div.sk-parallel-item {display: flex;flex-direction: column;z-index: 1;position: relative;background-color: white;}#sk-container-id-3 div.sk-parallel-item:first-child::after {align-self: flex-end;width: 50%;}#sk-container-id-3 div.sk-parallel-item:last-child::after {align-self: flex-start;width: 50%;}#sk-container-id-3 div.sk-parallel-item:only-child::after {width: 0;}#sk-container-id-3 div.sk-dashed-wrapped {border: 1px dashed gray;margin: 0 0.4em 0.5em 0.4em;box-sizing: border-box;padding-bottom: 0.4em;background-color: white;}#sk-container-id-3 div.sk-label label {font-family: monospace;font-weight: bold;display: inline-block;line-height: 1.2em;}#sk-container-id-3 div.sk-label-container {text-align: center;}#sk-container-id-3 div.sk-container {/* jupyter's `normalize.less` sets `[hidden] { display: none; }` but bootstrap.min.css set `[hidden] { display: none !important; }` so we also need the `!important` here to be able to override the default hidden behavior on the sphinx rendered scikit-learn.org. See: https://github.com/scikit-learn/scikit-learn/issues/21755 */display: inline-block !important;position: relative;}#sk-container-id-3 div.sk-text-repr-fallback {display: none;}</style><div id=\"sk-container-id-3\" class=\"sk-top-container\"><div class=\"sk-text-repr-fallback\"><pre>Pipeline(steps=[(&#x27;columntransformer&#x27;,\n",
       "                 ColumnTransformer(remainder=&#x27;passthrough&#x27;,\n",
       "                                   transformers=[(&#x27;onehotencoder&#x27;,\n",
       "                                                  OneHotEncoder(categories=[array([&#x27;ASHOKLEYLAND&#x27;, &#x27;ASTONMARTIN&#x27;, &#x27;AUDI&#x27;, &#x27;BAJAJ&#x27;, &#x27;BENTLEY&#x27;, &#x27;BMW&#x27;,\n",
       "       &#x27;BUGATTI&#x27;, &#x27;CHEVROLET&#x27;, &#x27;CRYSLER&#x27;, &#x27;DATSUN&#x27;, &#x27;DC&#x27;, &#x27;FERRARI&#x27;,\n",
       "       &#x27;FIAT&#x27;, &#x27;FORCE&#x27;, &#x27;FORD&#x27;, &#x27;HINDUSTAN&#x27;, &#x27;HONDA&#x27;, &#x27;HYUNDAI&#x27;, &#x27;ICML&#x27;,\n",
       "       &#x27;JAGUAR&#x27;, &#x27;JEEP&#x27;, &#x27;KIA&#x27;, &#x27;LAMBORGHI...\n",
       "       &#x27;PUNJAB&#x27;, &#x27;RAJASTHAN&#x27;, &#x27;SIKKIM&#x27;, &#x27;TAMILNADU&#x27;, &#x27;TELANGANA&#x27;,\n",
       "       &#x27;TRIPURA&#x27;, &#x27;UTTARAKHAND&#x27;, &#x27;UTTARPRADESH&#x27;, &#x27;WESTBENGAL&#x27;],\n",
       "      dtype=object),\n",
       "                                                                            array([&#x27;BANK&amp;NBFC&#x27;, &#x27;INSURANCE&#x27;, &#x27;LEASING&#x27;, &#x27;OEM&#x27;, &#x27;RETAIL&#x27;], dtype=object)]),\n",
       "                                                  [&#x27;Make_Clean&#x27;, &#x27;Model_Clean&#x27;,\n",
       "                                                   &#x27;Variant_Clean&#x27;,\n",
       "                                                   &#x27;Fuel_Clean&#x27;,\n",
       "                                                   &#x27;CV_State_Clean&#x27;,\n",
       "                                                   &#x27;SELLER_SEGMENT&#x27;])])),\n",
       "                (&#x27;decisiontreeregressor&#x27;,\n",
       "                 DecisionTreeRegressor(random_state=42))])</pre><b>In a Jupyter environment, please rerun this cell to show the HTML representation or trust the notebook. <br />On GitHub, the HTML representation is unable to render, please try loading this page with nbviewer.org.</b></div><div class=\"sk-container\" hidden><div class=\"sk-item sk-dashed-wrapped\"><div class=\"sk-label-container\"><div class=\"sk-label sk-toggleable\"><input class=\"sk-toggleable__control sk-hidden--visually\" id=\"sk-estimator-id-7\" type=\"checkbox\" ><label for=\"sk-estimator-id-7\" class=\"sk-toggleable__label sk-toggleable__label-arrow\">Pipeline</label><div class=\"sk-toggleable__content\"><pre>Pipeline(steps=[(&#x27;columntransformer&#x27;,\n",
       "                 ColumnTransformer(remainder=&#x27;passthrough&#x27;,\n",
       "                                   transformers=[(&#x27;onehotencoder&#x27;,\n",
       "                                                  OneHotEncoder(categories=[array([&#x27;ASHOKLEYLAND&#x27;, &#x27;ASTONMARTIN&#x27;, &#x27;AUDI&#x27;, &#x27;BAJAJ&#x27;, &#x27;BENTLEY&#x27;, &#x27;BMW&#x27;,\n",
       "       &#x27;BUGATTI&#x27;, &#x27;CHEVROLET&#x27;, &#x27;CRYSLER&#x27;, &#x27;DATSUN&#x27;, &#x27;DC&#x27;, &#x27;FERRARI&#x27;,\n",
       "       &#x27;FIAT&#x27;, &#x27;FORCE&#x27;, &#x27;FORD&#x27;, &#x27;HINDUSTAN&#x27;, &#x27;HONDA&#x27;, &#x27;HYUNDAI&#x27;, &#x27;ICML&#x27;,\n",
       "       &#x27;JAGUAR&#x27;, &#x27;JEEP&#x27;, &#x27;KIA&#x27;, &#x27;LAMBORGHI...\n",
       "       &#x27;PUNJAB&#x27;, &#x27;RAJASTHAN&#x27;, &#x27;SIKKIM&#x27;, &#x27;TAMILNADU&#x27;, &#x27;TELANGANA&#x27;,\n",
       "       &#x27;TRIPURA&#x27;, &#x27;UTTARAKHAND&#x27;, &#x27;UTTARPRADESH&#x27;, &#x27;WESTBENGAL&#x27;],\n",
       "      dtype=object),\n",
       "                                                                            array([&#x27;BANK&amp;NBFC&#x27;, &#x27;INSURANCE&#x27;, &#x27;LEASING&#x27;, &#x27;OEM&#x27;, &#x27;RETAIL&#x27;], dtype=object)]),\n",
       "                                                  [&#x27;Make_Clean&#x27;, &#x27;Model_Clean&#x27;,\n",
       "                                                   &#x27;Variant_Clean&#x27;,\n",
       "                                                   &#x27;Fuel_Clean&#x27;,\n",
       "                                                   &#x27;CV_State_Clean&#x27;,\n",
       "                                                   &#x27;SELLER_SEGMENT&#x27;])])),\n",
       "                (&#x27;decisiontreeregressor&#x27;,\n",
       "                 DecisionTreeRegressor(random_state=42))])</pre></div></div></div><div class=\"sk-serial\"><div class=\"sk-item sk-dashed-wrapped\"><div class=\"sk-label-container\"><div class=\"sk-label sk-toggleable\"><input class=\"sk-toggleable__control sk-hidden--visually\" id=\"sk-estimator-id-8\" type=\"checkbox\" ><label for=\"sk-estimator-id-8\" class=\"sk-toggleable__label sk-toggleable__label-arrow\">columntransformer: ColumnTransformer</label><div class=\"sk-toggleable__content\"><pre>ColumnTransformer(remainder=&#x27;passthrough&#x27;,\n",
       "                  transformers=[(&#x27;onehotencoder&#x27;,\n",
       "                                 OneHotEncoder(categories=[array([&#x27;ASHOKLEYLAND&#x27;, &#x27;ASTONMARTIN&#x27;, &#x27;AUDI&#x27;, &#x27;BAJAJ&#x27;, &#x27;BENTLEY&#x27;, &#x27;BMW&#x27;,\n",
       "       &#x27;BUGATTI&#x27;, &#x27;CHEVROLET&#x27;, &#x27;CRYSLER&#x27;, &#x27;DATSUN&#x27;, &#x27;DC&#x27;, &#x27;FERRARI&#x27;,\n",
       "       &#x27;FIAT&#x27;, &#x27;FORCE&#x27;, &#x27;FORD&#x27;, &#x27;HINDUSTAN&#x27;, &#x27;HONDA&#x27;, &#x27;HYUNDAI&#x27;, &#x27;ICML&#x27;,\n",
       "       &#x27;JAGUAR&#x27;, &#x27;JEEP&#x27;, &#x27;KIA&#x27;, &#x27;LAMBORGHINI&#x27;, &#x27;LANDROVER&#x27;, &#x27;MAHINDRA&#x27;,\n",
       "       &#x27;MAHINDRAR...\n",
       "       &#x27;KERALA&#x27;, &#x27;LAKSHADWEEP&#x27;, &#x27;MADHYAPRADESH&#x27;, &#x27;MAHARASHTRA&#x27;, &#x27;MANIPUR&#x27;,\n",
       "       &#x27;MEGHALAYA&#x27;, &#x27;MIZORAM&#x27;, &#x27;NAGALAND&#x27;, &#x27;ODISHA&#x27;, &#x27;PUDUCHERRY&#x27;,\n",
       "       &#x27;PUNJAB&#x27;, &#x27;RAJASTHAN&#x27;, &#x27;SIKKIM&#x27;, &#x27;TAMILNADU&#x27;, &#x27;TELANGANA&#x27;,\n",
       "       &#x27;TRIPURA&#x27;, &#x27;UTTARAKHAND&#x27;, &#x27;UTTARPRADESH&#x27;, &#x27;WESTBENGAL&#x27;],\n",
       "      dtype=object),\n",
       "                                                           array([&#x27;BANK&amp;NBFC&#x27;, &#x27;INSURANCE&#x27;, &#x27;LEASING&#x27;, &#x27;OEM&#x27;, &#x27;RETAIL&#x27;], dtype=object)]),\n",
       "                                 [&#x27;Make_Clean&#x27;, &#x27;Model_Clean&#x27;, &#x27;Variant_Clean&#x27;,\n",
       "                                  &#x27;Fuel_Clean&#x27;, &#x27;CV_State_Clean&#x27;,\n",
       "                                  &#x27;SELLER_SEGMENT&#x27;])])</pre></div></div></div><div class=\"sk-parallel\"><div class=\"sk-parallel-item\"><div class=\"sk-item\"><div class=\"sk-label-container\"><div class=\"sk-label sk-toggleable\"><input class=\"sk-toggleable__control sk-hidden--visually\" id=\"sk-estimator-id-9\" type=\"checkbox\" ><label for=\"sk-estimator-id-9\" class=\"sk-toggleable__label sk-toggleable__label-arrow\">onehotencoder</label><div class=\"sk-toggleable__content\"><pre>[&#x27;Make_Clean&#x27;, &#x27;Model_Clean&#x27;, &#x27;Variant_Clean&#x27;, &#x27;Fuel_Clean&#x27;, &#x27;CV_State_Clean&#x27;, &#x27;SELLER_SEGMENT&#x27;]</pre></div></div></div><div class=\"sk-serial\"><div class=\"sk-item\"><div class=\"sk-estimator sk-toggleable\"><input class=\"sk-toggleable__control sk-hidden--visually\" id=\"sk-estimator-id-10\" type=\"checkbox\" ><label for=\"sk-estimator-id-10\" class=\"sk-toggleable__label sk-toggleable__label-arrow\">OneHotEncoder</label><div class=\"sk-toggleable__content\"><pre>OneHotEncoder(categories=[array([&#x27;ASHOKLEYLAND&#x27;, &#x27;ASTONMARTIN&#x27;, &#x27;AUDI&#x27;, &#x27;BAJAJ&#x27;, &#x27;BENTLEY&#x27;, &#x27;BMW&#x27;,\n",
       "       &#x27;BUGATTI&#x27;, &#x27;CHEVROLET&#x27;, &#x27;CRYSLER&#x27;, &#x27;DATSUN&#x27;, &#x27;DC&#x27;, &#x27;FERRARI&#x27;,\n",
       "       &#x27;FIAT&#x27;, &#x27;FORCE&#x27;, &#x27;FORD&#x27;, &#x27;HINDUSTAN&#x27;, &#x27;HONDA&#x27;, &#x27;HYUNDAI&#x27;, &#x27;ICML&#x27;,\n",
       "       &#x27;JAGUAR&#x27;, &#x27;JEEP&#x27;, &#x27;KIA&#x27;, &#x27;LAMBORGHINI&#x27;, &#x27;LANDROVER&#x27;, &#x27;MAHINDRA&#x27;,\n",
       "       &#x27;MAHINDRARENAULT&#x27;, &#x27;MARUTISUZUKI&#x27;, &#x27;MASERATI&#x27;, &#x27;MAZDA&#x27;,\n",
       "       &#x27;MERCEDESBENZ&#x27;, &#x27;MG&#x27;, &#x27;MINI&#x27;, &#x27;MIT...\n",
       "       &#x27;HIMACHALPRADESH&#x27;, &#x27;JAMMU&amp;KASHMIR&#x27;, &#x27;JHARKHAND&#x27;, &#x27;KARNATAKA&#x27;,\n",
       "       &#x27;KERALA&#x27;, &#x27;LAKSHADWEEP&#x27;, &#x27;MADHYAPRADESH&#x27;, &#x27;MAHARASHTRA&#x27;, &#x27;MANIPUR&#x27;,\n",
       "       &#x27;MEGHALAYA&#x27;, &#x27;MIZORAM&#x27;, &#x27;NAGALAND&#x27;, &#x27;ODISHA&#x27;, &#x27;PUDUCHERRY&#x27;,\n",
       "       &#x27;PUNJAB&#x27;, &#x27;RAJASTHAN&#x27;, &#x27;SIKKIM&#x27;, &#x27;TAMILNADU&#x27;, &#x27;TELANGANA&#x27;,\n",
       "       &#x27;TRIPURA&#x27;, &#x27;UTTARAKHAND&#x27;, &#x27;UTTARPRADESH&#x27;, &#x27;WESTBENGAL&#x27;],\n",
       "      dtype=object),\n",
       "                          array([&#x27;BANK&amp;NBFC&#x27;, &#x27;INSURANCE&#x27;, &#x27;LEASING&#x27;, &#x27;OEM&#x27;, &#x27;RETAIL&#x27;], dtype=object)])</pre></div></div></div></div></div></div><div class=\"sk-parallel-item\"><div class=\"sk-item\"><div class=\"sk-label-container\"><div class=\"sk-label sk-toggleable\"><input class=\"sk-toggleable__control sk-hidden--visually\" id=\"sk-estimator-id-11\" type=\"checkbox\" ><label for=\"sk-estimator-id-11\" class=\"sk-toggleable__label sk-toggleable__label-arrow\">remainder</label><div class=\"sk-toggleable__content\"><pre>[&#x27;MAKE_YEAR&#x27;, &#x27;METERREADING&#x27;]</pre></div></div></div><div class=\"sk-serial\"><div class=\"sk-item\"><div class=\"sk-estimator sk-toggleable\"><input class=\"sk-toggleable__control sk-hidden--visually\" id=\"sk-estimator-id-12\" type=\"checkbox\" ><label for=\"sk-estimator-id-12\" class=\"sk-toggleable__label sk-toggleable__label-arrow\">passthrough</label><div class=\"sk-toggleable__content\"><pre>passthrough</pre></div></div></div></div></div></div></div></div><div class=\"sk-item\"><div class=\"sk-estimator sk-toggleable\"><input class=\"sk-toggleable__control sk-hidden--visually\" id=\"sk-estimator-id-13\" type=\"checkbox\" ><label for=\"sk-estimator-id-13\" class=\"sk-toggleable__label sk-toggleable__label-arrow\">DecisionTreeRegressor</label><div class=\"sk-toggleable__content\"><pre>DecisionTreeRegressor(random_state=42)</pre></div></div></div></div></div></div></div>"
      ],
      "text/plain": [
       "Pipeline(steps=[('columntransformer',\n",
       "                 ColumnTransformer(remainder='passthrough',\n",
       "                                   transformers=[('onehotencoder',\n",
       "                                                  OneHotEncoder(categories=[array(['ASHOKLEYLAND', 'ASTONMARTIN', 'AUDI', 'BAJAJ', 'BENTLEY', 'BMW',\n",
       "       'BUGATTI', 'CHEVROLET', 'CRYSLER', 'DATSUN', 'DC', 'FERRARI',\n",
       "       'FIAT', 'FORCE', 'FORD', 'HINDUSTAN', 'HONDA', 'HYUNDAI', 'ICML',\n",
       "       'JAGUAR', 'JEEP', 'KIA', 'LAMBORGHI...\n",
       "       'PUNJAB', 'RAJASTHAN', 'SIKKIM', 'TAMILNADU', 'TELANGANA',\n",
       "       'TRIPURA', 'UTTARAKHAND', 'UTTARPRADESH', 'WESTBENGAL'],\n",
       "      dtype=object),\n",
       "                                                                            array(['BANK&NBFC', 'INSURANCE', 'LEASING', 'OEM', 'RETAIL'], dtype=object)]),\n",
       "                                                  ['Make_Clean', 'Model_Clean',\n",
       "                                                   'Variant_Clean',\n",
       "                                                   'Fuel_Clean',\n",
       "                                                   'CV_State_Clean',\n",
       "                                                   'SELLER_SEGMENT'])])),\n",
       "                ('decisiontreeregressor',\n",
       "                 DecisionTreeRegressor(random_state=42))])"
      ]
     },
     "execution_count": 44,
     "metadata": {},
     "output_type": "execute_result"
    }
   ],
   "source": [
    "from sklearn.model_selection import train_test_split\n",
    "X_train, X_test, y_train, y_test = train_test_split(X, y, test_size=0.2, random_state=0)\n",
    "pipe.fit(X_train, y_train)"
   ]
  },
  {
   "cell_type": "code",
   "execution_count": 45,
   "id": "45e9ce6b",
   "metadata": {},
   "outputs": [
    {
     "data": {
      "text/plain": [
       "array([ 30000., 128000., 117844., ..., 161000., 676741.,  55000.])"
      ]
     },
     "execution_count": 45,
     "metadata": {},
     "output_type": "execute_result"
    }
   ],
   "source": [
    "x_train= pipe.predict(X_train)\n",
    "x_train"
   ]
  },
  {
   "cell_type": "code",
   "execution_count": 46,
   "id": "183feb5c",
   "metadata": {},
   "outputs": [
    {
     "data": {
      "text/plain": [
       "array([555000., 322102.,  80000., ..., 195000.,  60000., 310000.])"
      ]
     },
     "execution_count": 46,
     "metadata": {},
     "output_type": "execute_result"
    }
   ],
   "source": [
    "x_test= pipe.predict(X_test)\n",
    "x_test"
   ]
  },
  {
   "cell_type": "code",
   "execution_count": 47,
   "id": "1d9c83b9",
   "metadata": {},
   "outputs": [
    {
     "data": {
      "text/plain": [
       "0.9999760469588653"
      ]
     },
     "execution_count": 47,
     "metadata": {},
     "output_type": "execute_result"
    }
   ],
   "source": [
    "r2_score(x_train,y_train)"
   ]
  },
  {
   "cell_type": "code",
   "execution_count": 48,
   "id": "1630a936",
   "metadata": {},
   "outputs": [
    {
     "data": {
      "text/plain": [
       "0.990000318133266"
      ]
     },
     "execution_count": 48,
     "metadata": {},
     "output_type": "execute_result"
    }
   ],
   "source": [
    "r2_score(x_test,y_test)"
   ]
  },
  {
   "cell_type": "markdown",
   "id": "25fabd03",
   "metadata": {},
   "source": [
    "## XGboost"
   ]
  },
  {
   "cell_type": "code",
   "execution_count": 49,
   "id": "d1c9f219",
   "metadata": {},
   "outputs": [],
   "source": [
    "from xgboost import XGBRegressor\n",
    "# Initialize XGBRegressor\n",
    "xgb_regressor = XGBRegressor(max_depth=8,learning_rate=0.1,\n",
    "                   n_estimators=1700,\n",
    "                   objective='reg:linear',\n",
    "                   booster='gbtree')"
   ]
  },
  {
   "cell_type": "code",
   "execution_count": 50,
   "id": "857856da",
   "metadata": {},
   "outputs": [],
   "source": [
    "pipe_xgb = make_pipeline(column_trans, xgb_regressor)"
   ]
  },
  {
   "cell_type": "code",
   "execution_count": 51,
   "id": "68871980",
   "metadata": {},
   "outputs": [
    {
     "name": "stdout",
     "output_type": "stream",
     "text": [
      "[19:08:46] WARNING: C:\\buildkite-agent\\builds\\buildkite-windows-cpu-autoscaling-group-i-07593ffd91cd9da33-1\\xgboost\\xgboost-ci-windows\\src\\objective\\regression_obj.cu:213: reg:linear is now deprecated in favor of reg:squarederror.\n"
     ]
    },
    {
     "data": {
      "text/html": [
       "<style>#sk-container-id-4 {color: black;}#sk-container-id-4 pre{padding: 0;}#sk-container-id-4 div.sk-toggleable {background-color: white;}#sk-container-id-4 label.sk-toggleable__label {cursor: pointer;display: block;width: 100%;margin-bottom: 0;padding: 0.3em;box-sizing: border-box;text-align: center;}#sk-container-id-4 label.sk-toggleable__label-arrow:before {content: \"▸\";float: left;margin-right: 0.25em;color: #696969;}#sk-container-id-4 label.sk-toggleable__label-arrow:hover:before {color: black;}#sk-container-id-4 div.sk-estimator:hover label.sk-toggleable__label-arrow:before {color: black;}#sk-container-id-4 div.sk-toggleable__content {max-height: 0;max-width: 0;overflow: hidden;text-align: left;background-color: #f0f8ff;}#sk-container-id-4 div.sk-toggleable__content pre {margin: 0.2em;color: black;border-radius: 0.25em;background-color: #f0f8ff;}#sk-container-id-4 input.sk-toggleable__control:checked~div.sk-toggleable__content {max-height: 200px;max-width: 100%;overflow: auto;}#sk-container-id-4 input.sk-toggleable__control:checked~label.sk-toggleable__label-arrow:before {content: \"▾\";}#sk-container-id-4 div.sk-estimator input.sk-toggleable__control:checked~label.sk-toggleable__label {background-color: #d4ebff;}#sk-container-id-4 div.sk-label input.sk-toggleable__control:checked~label.sk-toggleable__label {background-color: #d4ebff;}#sk-container-id-4 input.sk-hidden--visually {border: 0;clip: rect(1px 1px 1px 1px);clip: rect(1px, 1px, 1px, 1px);height: 1px;margin: -1px;overflow: hidden;padding: 0;position: absolute;width: 1px;}#sk-container-id-4 div.sk-estimator {font-family: monospace;background-color: #f0f8ff;border: 1px dotted black;border-radius: 0.25em;box-sizing: border-box;margin-bottom: 0.5em;}#sk-container-id-4 div.sk-estimator:hover {background-color: #d4ebff;}#sk-container-id-4 div.sk-parallel-item::after {content: \"\";width: 100%;border-bottom: 1px solid gray;flex-grow: 1;}#sk-container-id-4 div.sk-label:hover label.sk-toggleable__label {background-color: #d4ebff;}#sk-container-id-4 div.sk-serial::before {content: \"\";position: absolute;border-left: 1px solid gray;box-sizing: border-box;top: 0;bottom: 0;left: 50%;z-index: 0;}#sk-container-id-4 div.sk-serial {display: flex;flex-direction: column;align-items: center;background-color: white;padding-right: 0.2em;padding-left: 0.2em;position: relative;}#sk-container-id-4 div.sk-item {position: relative;z-index: 1;}#sk-container-id-4 div.sk-parallel {display: flex;align-items: stretch;justify-content: center;background-color: white;position: relative;}#sk-container-id-4 div.sk-item::before, #sk-container-id-4 div.sk-parallel-item::before {content: \"\";position: absolute;border-left: 1px solid gray;box-sizing: border-box;top: 0;bottom: 0;left: 50%;z-index: -1;}#sk-container-id-4 div.sk-parallel-item {display: flex;flex-direction: column;z-index: 1;position: relative;background-color: white;}#sk-container-id-4 div.sk-parallel-item:first-child::after {align-self: flex-end;width: 50%;}#sk-container-id-4 div.sk-parallel-item:last-child::after {align-self: flex-start;width: 50%;}#sk-container-id-4 div.sk-parallel-item:only-child::after {width: 0;}#sk-container-id-4 div.sk-dashed-wrapped {border: 1px dashed gray;margin: 0 0.4em 0.5em 0.4em;box-sizing: border-box;padding-bottom: 0.4em;background-color: white;}#sk-container-id-4 div.sk-label label {font-family: monospace;font-weight: bold;display: inline-block;line-height: 1.2em;}#sk-container-id-4 div.sk-label-container {text-align: center;}#sk-container-id-4 div.sk-container {/* jupyter's `normalize.less` sets `[hidden] { display: none; }` but bootstrap.min.css set `[hidden] { display: none !important; }` so we also need the `!important` here to be able to override the default hidden behavior on the sphinx rendered scikit-learn.org. See: https://github.com/scikit-learn/scikit-learn/issues/21755 */display: inline-block !important;position: relative;}#sk-container-id-4 div.sk-text-repr-fallback {display: none;}</style><div id=\"sk-container-id-4\" class=\"sk-top-container\"><div class=\"sk-text-repr-fallback\"><pre>Pipeline(steps=[(&#x27;columntransformer&#x27;,\n",
       "                 ColumnTransformer(remainder=&#x27;passthrough&#x27;,\n",
       "                                   transformers=[(&#x27;onehotencoder&#x27;,\n",
       "                                                  OneHotEncoder(categories=[array([&#x27;ASHOKLEYLAND&#x27;, &#x27;ASTONMARTIN&#x27;, &#x27;AUDI&#x27;, &#x27;BAJAJ&#x27;, &#x27;BENTLEY&#x27;, &#x27;BMW&#x27;,\n",
       "       &#x27;BUGATTI&#x27;, &#x27;CHEVROLET&#x27;, &#x27;CRYSLER&#x27;, &#x27;DATSUN&#x27;, &#x27;DC&#x27;, &#x27;FERRARI&#x27;,\n",
       "       &#x27;FIAT&#x27;, &#x27;FORCE&#x27;, &#x27;FORD&#x27;, &#x27;HINDUSTAN&#x27;, &#x27;HONDA&#x27;, &#x27;HYUNDAI&#x27;, &#x27;ICML&#x27;,\n",
       "       &#x27;JAGUAR&#x27;, &#x27;JEEP&#x27;, &#x27;KIA&#x27;, &#x27;LAMBORGHI...\n",
       "                              grow_policy=None, importance_type=None,\n",
       "                              interaction_constraints=None, learning_rate=0.1,\n",
       "                              max_bin=None, max_cat_threshold=None,\n",
       "                              max_cat_to_onehot=None, max_delta_step=None,\n",
       "                              max_depth=8, max_leaves=None,\n",
       "                              min_child_weight=None, missing=nan,\n",
       "                              monotone_constraints=None, n_estimators=1700,\n",
       "                              n_jobs=None, num_parallel_tree=None,\n",
       "                              objective=&#x27;reg:linear&#x27;, predictor=None, ...))])</pre><b>In a Jupyter environment, please rerun this cell to show the HTML representation or trust the notebook. <br />On GitHub, the HTML representation is unable to render, please try loading this page with nbviewer.org.</b></div><div class=\"sk-container\" hidden><div class=\"sk-item sk-dashed-wrapped\"><div class=\"sk-label-container\"><div class=\"sk-label sk-toggleable\"><input class=\"sk-toggleable__control sk-hidden--visually\" id=\"sk-estimator-id-14\" type=\"checkbox\" ><label for=\"sk-estimator-id-14\" class=\"sk-toggleable__label sk-toggleable__label-arrow\">Pipeline</label><div class=\"sk-toggleable__content\"><pre>Pipeline(steps=[(&#x27;columntransformer&#x27;,\n",
       "                 ColumnTransformer(remainder=&#x27;passthrough&#x27;,\n",
       "                                   transformers=[(&#x27;onehotencoder&#x27;,\n",
       "                                                  OneHotEncoder(categories=[array([&#x27;ASHOKLEYLAND&#x27;, &#x27;ASTONMARTIN&#x27;, &#x27;AUDI&#x27;, &#x27;BAJAJ&#x27;, &#x27;BENTLEY&#x27;, &#x27;BMW&#x27;,\n",
       "       &#x27;BUGATTI&#x27;, &#x27;CHEVROLET&#x27;, &#x27;CRYSLER&#x27;, &#x27;DATSUN&#x27;, &#x27;DC&#x27;, &#x27;FERRARI&#x27;,\n",
       "       &#x27;FIAT&#x27;, &#x27;FORCE&#x27;, &#x27;FORD&#x27;, &#x27;HINDUSTAN&#x27;, &#x27;HONDA&#x27;, &#x27;HYUNDAI&#x27;, &#x27;ICML&#x27;,\n",
       "       &#x27;JAGUAR&#x27;, &#x27;JEEP&#x27;, &#x27;KIA&#x27;, &#x27;LAMBORGHI...\n",
       "                              grow_policy=None, importance_type=None,\n",
       "                              interaction_constraints=None, learning_rate=0.1,\n",
       "                              max_bin=None, max_cat_threshold=None,\n",
       "                              max_cat_to_onehot=None, max_delta_step=None,\n",
       "                              max_depth=8, max_leaves=None,\n",
       "                              min_child_weight=None, missing=nan,\n",
       "                              monotone_constraints=None, n_estimators=1700,\n",
       "                              n_jobs=None, num_parallel_tree=None,\n",
       "                              objective=&#x27;reg:linear&#x27;, predictor=None, ...))])</pre></div></div></div><div class=\"sk-serial\"><div class=\"sk-item sk-dashed-wrapped\"><div class=\"sk-label-container\"><div class=\"sk-label sk-toggleable\"><input class=\"sk-toggleable__control sk-hidden--visually\" id=\"sk-estimator-id-15\" type=\"checkbox\" ><label for=\"sk-estimator-id-15\" class=\"sk-toggleable__label sk-toggleable__label-arrow\">columntransformer: ColumnTransformer</label><div class=\"sk-toggleable__content\"><pre>ColumnTransformer(remainder=&#x27;passthrough&#x27;,\n",
       "                  transformers=[(&#x27;onehotencoder&#x27;,\n",
       "                                 OneHotEncoder(categories=[array([&#x27;ASHOKLEYLAND&#x27;, &#x27;ASTONMARTIN&#x27;, &#x27;AUDI&#x27;, &#x27;BAJAJ&#x27;, &#x27;BENTLEY&#x27;, &#x27;BMW&#x27;,\n",
       "       &#x27;BUGATTI&#x27;, &#x27;CHEVROLET&#x27;, &#x27;CRYSLER&#x27;, &#x27;DATSUN&#x27;, &#x27;DC&#x27;, &#x27;FERRARI&#x27;,\n",
       "       &#x27;FIAT&#x27;, &#x27;FORCE&#x27;, &#x27;FORD&#x27;, &#x27;HINDUSTAN&#x27;, &#x27;HONDA&#x27;, &#x27;HYUNDAI&#x27;, &#x27;ICML&#x27;,\n",
       "       &#x27;JAGUAR&#x27;, &#x27;JEEP&#x27;, &#x27;KIA&#x27;, &#x27;LAMBORGHINI&#x27;, &#x27;LANDROVER&#x27;, &#x27;MAHINDRA&#x27;,\n",
       "       &#x27;MAHINDRAR...\n",
       "       &#x27;KERALA&#x27;, &#x27;LAKSHADWEEP&#x27;, &#x27;MADHYAPRADESH&#x27;, &#x27;MAHARASHTRA&#x27;, &#x27;MANIPUR&#x27;,\n",
       "       &#x27;MEGHALAYA&#x27;, &#x27;MIZORAM&#x27;, &#x27;NAGALAND&#x27;, &#x27;ODISHA&#x27;, &#x27;PUDUCHERRY&#x27;,\n",
       "       &#x27;PUNJAB&#x27;, &#x27;RAJASTHAN&#x27;, &#x27;SIKKIM&#x27;, &#x27;TAMILNADU&#x27;, &#x27;TELANGANA&#x27;,\n",
       "       &#x27;TRIPURA&#x27;, &#x27;UTTARAKHAND&#x27;, &#x27;UTTARPRADESH&#x27;, &#x27;WESTBENGAL&#x27;],\n",
       "      dtype=object),\n",
       "                                                           array([&#x27;BANK&amp;NBFC&#x27;, &#x27;INSURANCE&#x27;, &#x27;LEASING&#x27;, &#x27;OEM&#x27;, &#x27;RETAIL&#x27;], dtype=object)]),\n",
       "                                 [&#x27;Make_Clean&#x27;, &#x27;Model_Clean&#x27;, &#x27;Variant_Clean&#x27;,\n",
       "                                  &#x27;Fuel_Clean&#x27;, &#x27;CV_State_Clean&#x27;,\n",
       "                                  &#x27;SELLER_SEGMENT&#x27;])])</pre></div></div></div><div class=\"sk-parallel\"><div class=\"sk-parallel-item\"><div class=\"sk-item\"><div class=\"sk-label-container\"><div class=\"sk-label sk-toggleable\"><input class=\"sk-toggleable__control sk-hidden--visually\" id=\"sk-estimator-id-16\" type=\"checkbox\" ><label for=\"sk-estimator-id-16\" class=\"sk-toggleable__label sk-toggleable__label-arrow\">onehotencoder</label><div class=\"sk-toggleable__content\"><pre>[&#x27;Make_Clean&#x27;, &#x27;Model_Clean&#x27;, &#x27;Variant_Clean&#x27;, &#x27;Fuel_Clean&#x27;, &#x27;CV_State_Clean&#x27;, &#x27;SELLER_SEGMENT&#x27;]</pre></div></div></div><div class=\"sk-serial\"><div class=\"sk-item\"><div class=\"sk-estimator sk-toggleable\"><input class=\"sk-toggleable__control sk-hidden--visually\" id=\"sk-estimator-id-17\" type=\"checkbox\" ><label for=\"sk-estimator-id-17\" class=\"sk-toggleable__label sk-toggleable__label-arrow\">OneHotEncoder</label><div class=\"sk-toggleable__content\"><pre>OneHotEncoder(categories=[array([&#x27;ASHOKLEYLAND&#x27;, &#x27;ASTONMARTIN&#x27;, &#x27;AUDI&#x27;, &#x27;BAJAJ&#x27;, &#x27;BENTLEY&#x27;, &#x27;BMW&#x27;,\n",
       "       &#x27;BUGATTI&#x27;, &#x27;CHEVROLET&#x27;, &#x27;CRYSLER&#x27;, &#x27;DATSUN&#x27;, &#x27;DC&#x27;, &#x27;FERRARI&#x27;,\n",
       "       &#x27;FIAT&#x27;, &#x27;FORCE&#x27;, &#x27;FORD&#x27;, &#x27;HINDUSTAN&#x27;, &#x27;HONDA&#x27;, &#x27;HYUNDAI&#x27;, &#x27;ICML&#x27;,\n",
       "       &#x27;JAGUAR&#x27;, &#x27;JEEP&#x27;, &#x27;KIA&#x27;, &#x27;LAMBORGHINI&#x27;, &#x27;LANDROVER&#x27;, &#x27;MAHINDRA&#x27;,\n",
       "       &#x27;MAHINDRARENAULT&#x27;, &#x27;MARUTISUZUKI&#x27;, &#x27;MASERATI&#x27;, &#x27;MAZDA&#x27;,\n",
       "       &#x27;MERCEDESBENZ&#x27;, &#x27;MG&#x27;, &#x27;MINI&#x27;, &#x27;MIT...\n",
       "       &#x27;HIMACHALPRADESH&#x27;, &#x27;JAMMU&amp;KASHMIR&#x27;, &#x27;JHARKHAND&#x27;, &#x27;KARNATAKA&#x27;,\n",
       "       &#x27;KERALA&#x27;, &#x27;LAKSHADWEEP&#x27;, &#x27;MADHYAPRADESH&#x27;, &#x27;MAHARASHTRA&#x27;, &#x27;MANIPUR&#x27;,\n",
       "       &#x27;MEGHALAYA&#x27;, &#x27;MIZORAM&#x27;, &#x27;NAGALAND&#x27;, &#x27;ODISHA&#x27;, &#x27;PUDUCHERRY&#x27;,\n",
       "       &#x27;PUNJAB&#x27;, &#x27;RAJASTHAN&#x27;, &#x27;SIKKIM&#x27;, &#x27;TAMILNADU&#x27;, &#x27;TELANGANA&#x27;,\n",
       "       &#x27;TRIPURA&#x27;, &#x27;UTTARAKHAND&#x27;, &#x27;UTTARPRADESH&#x27;, &#x27;WESTBENGAL&#x27;],\n",
       "      dtype=object),\n",
       "                          array([&#x27;BANK&amp;NBFC&#x27;, &#x27;INSURANCE&#x27;, &#x27;LEASING&#x27;, &#x27;OEM&#x27;, &#x27;RETAIL&#x27;], dtype=object)])</pre></div></div></div></div></div></div><div class=\"sk-parallel-item\"><div class=\"sk-item\"><div class=\"sk-label-container\"><div class=\"sk-label sk-toggleable\"><input class=\"sk-toggleable__control sk-hidden--visually\" id=\"sk-estimator-id-18\" type=\"checkbox\" ><label for=\"sk-estimator-id-18\" class=\"sk-toggleable__label sk-toggleable__label-arrow\">remainder</label><div class=\"sk-toggleable__content\"><pre>[&#x27;MAKE_YEAR&#x27;, &#x27;METERREADING&#x27;]</pre></div></div></div><div class=\"sk-serial\"><div class=\"sk-item\"><div class=\"sk-estimator sk-toggleable\"><input class=\"sk-toggleable__control sk-hidden--visually\" id=\"sk-estimator-id-19\" type=\"checkbox\" ><label for=\"sk-estimator-id-19\" class=\"sk-toggleable__label sk-toggleable__label-arrow\">passthrough</label><div class=\"sk-toggleable__content\"><pre>passthrough</pre></div></div></div></div></div></div></div></div><div class=\"sk-item\"><div class=\"sk-estimator sk-toggleable\"><input class=\"sk-toggleable__control sk-hidden--visually\" id=\"sk-estimator-id-20\" type=\"checkbox\" ><label for=\"sk-estimator-id-20\" class=\"sk-toggleable__label sk-toggleable__label-arrow\">XGBRegressor</label><div class=\"sk-toggleable__content\"><pre>XGBRegressor(base_score=None, booster=&#x27;gbtree&#x27;, callbacks=None,\n",
       "             colsample_bylevel=None, colsample_bynode=None,\n",
       "             colsample_bytree=None, early_stopping_rounds=None,\n",
       "             enable_categorical=False, eval_metric=None, feature_types=None,\n",
       "             gamma=None, gpu_id=None, grow_policy=None, importance_type=None,\n",
       "             interaction_constraints=None, learning_rate=0.1, max_bin=None,\n",
       "             max_cat_threshold=None, max_cat_to_onehot=None,\n",
       "             max_delta_step=None, max_depth=8, max_leaves=None,\n",
       "             min_child_weight=None, missing=nan, monotone_constraints=None,\n",
       "             n_estimators=1700, n_jobs=None, num_parallel_tree=None,\n",
       "             objective=&#x27;reg:linear&#x27;, predictor=None, ...)</pre></div></div></div></div></div></div></div>"
      ],
      "text/plain": [
       "Pipeline(steps=[('columntransformer',\n",
       "                 ColumnTransformer(remainder='passthrough',\n",
       "                                   transformers=[('onehotencoder',\n",
       "                                                  OneHotEncoder(categories=[array(['ASHOKLEYLAND', 'ASTONMARTIN', 'AUDI', 'BAJAJ', 'BENTLEY', 'BMW',\n",
       "       'BUGATTI', 'CHEVROLET', 'CRYSLER', 'DATSUN', 'DC', 'FERRARI',\n",
       "       'FIAT', 'FORCE', 'FORD', 'HINDUSTAN', 'HONDA', 'HYUNDAI', 'ICML',\n",
       "       'JAGUAR', 'JEEP', 'KIA', 'LAMBORGHI...\n",
       "                              grow_policy=None, importance_type=None,\n",
       "                              interaction_constraints=None, learning_rate=0.1,\n",
       "                              max_bin=None, max_cat_threshold=None,\n",
       "                              max_cat_to_onehot=None, max_delta_step=None,\n",
       "                              max_depth=8, max_leaves=None,\n",
       "                              min_child_weight=None, missing=nan,\n",
       "                              monotone_constraints=None, n_estimators=1700,\n",
       "                              n_jobs=None, num_parallel_tree=None,\n",
       "                              objective='reg:linear', predictor=None, ...))])"
      ]
     },
     "execution_count": 51,
     "metadata": {},
     "output_type": "execute_result"
    }
   ],
   "source": [
    "pipe_xgb.fit(X_train,y_train)"
   ]
  },
  {
   "cell_type": "code",
   "execution_count": 52,
   "id": "0b5cb0bd",
   "metadata": {},
   "outputs": [
    {
     "data": {
      "text/plain": [
       "array([ 86904.54, 123622.26, 123208.4 , ..., 244132.08, 793395.9 ,\n",
       "        72570.36], dtype=float32)"
      ]
     },
     "execution_count": 52,
     "metadata": {},
     "output_type": "execute_result"
    }
   ],
   "source": [
    "x_train_xgb= pipe_xgb.predict(X_train)\n",
    "x_train_xgb"
   ]
  },
  {
   "cell_type": "code",
   "execution_count": 53,
   "id": "8c5b62bc",
   "metadata": {},
   "outputs": [
    {
     "data": {
      "text/plain": [
       "array([435936.4 , 397792.25, 116667.11, ..., 225858.86,  81160.46,\n",
       "       319532.53], dtype=float32)"
      ]
     },
     "execution_count": 53,
     "metadata": {},
     "output_type": "execute_result"
    }
   ],
   "source": [
    "x_test_xgb= pipe_xgb.predict(X_test)\n",
    "x_test_xgb"
   ]
  },
  {
   "cell_type": "code",
   "execution_count": 54,
   "id": "57daebd3",
   "metadata": {},
   "outputs": [
    {
     "data": {
      "text/plain": [
       "0.9987848776594492"
      ]
     },
     "execution_count": 54,
     "metadata": {},
     "output_type": "execute_result"
    }
   ],
   "source": [
    "r2_score(x_train_xgb,y_train)"
   ]
  },
  {
   "cell_type": "code",
   "execution_count": 55,
   "id": "32d73d24",
   "metadata": {},
   "outputs": [
    {
     "data": {
      "text/plain": [
       "0.9945294924773654"
      ]
     },
     "execution_count": 55,
     "metadata": {},
     "output_type": "execute_result"
    }
   ],
   "source": [
    "r2_score(x_test_xgb,y_test)"
   ]
  },
  {
   "cell_type": "markdown",
   "id": "87f77a65",
   "metadata": {},
   "source": [
    "## SVM"
   ]
  },
  {
   "cell_type": "code",
   "execution_count": 56,
   "id": "eabcac2f",
   "metadata": {},
   "outputs": [],
   "source": [
    "# from sklearn.svm import SVR\n",
    "# svm_regressor = SVR(kernel = 'rbf')"
   ]
  },
  {
   "cell_type": "code",
   "execution_count": 57,
   "id": "e22cf9e7",
   "metadata": {},
   "outputs": [],
   "source": [
    "# pipe_svm = make_pipeline(column_trans, svm_regressor)"
   ]
  },
  {
   "cell_type": "code",
   "execution_count": 58,
   "id": "ec2a0b3a",
   "metadata": {},
   "outputs": [],
   "source": [
    "# pipe_svm.fit(X_train,y_train)"
   ]
  },
  {
   "cell_type": "code",
   "execution_count": 59,
   "id": "458fbd3c",
   "metadata": {},
   "outputs": [],
   "source": [
    "# x_train= pipe_svm.predict(X_train)\n",
    "# x_train"
   ]
  },
  {
   "cell_type": "code",
   "execution_count": 60,
   "id": "7daa5db0",
   "metadata": {},
   "outputs": [],
   "source": [
    "# x_test= pipe_svm.predict(X_test)\n",
    "# x_test"
   ]
  },
  {
   "cell_type": "code",
   "execution_count": 61,
   "id": "a868e374",
   "metadata": {},
   "outputs": [],
   "source": [
    "# r2_score(x_train,y_train)"
   ]
  },
  {
   "cell_type": "code",
   "execution_count": 62,
   "id": "94e2e446",
   "metadata": {},
   "outputs": [],
   "source": [
    "# r2_score(x_test,y_test)"
   ]
  },
  {
   "cell_type": "markdown",
   "id": "ede04fc0",
   "metadata": {},
   "source": [
    "## Adaboost"
   ]
  },
  {
   "cell_type": "code",
   "execution_count": 63,
   "id": "79471588",
   "metadata": {},
   "outputs": [],
   "source": [
    "# from sklearn.ensemble import AdaBoostRegressor\n",
    "\n",
    "# ada_reg = AdaBoostRegressor(random_state=42)"
   ]
  },
  {
   "cell_type": "code",
   "execution_count": 64,
   "id": "db6da5da",
   "metadata": {},
   "outputs": [],
   "source": [
    "# pipe_ada = make_pipeline(column_trans, ada_reg)"
   ]
  },
  {
   "cell_type": "code",
   "execution_count": 65,
   "id": "b86c2b31",
   "metadata": {},
   "outputs": [],
   "source": [
    "# pipe_ada.fit(X_train,y_train)"
   ]
  },
  {
   "cell_type": "code",
   "execution_count": 66,
   "id": "991c10df",
   "metadata": {},
   "outputs": [],
   "source": [
    "# x_train_ada= pipe_ada.predict(X_train)\n",
    "# x_train_ada"
   ]
  },
  {
   "cell_type": "code",
   "execution_count": 67,
   "id": "a8e698f5",
   "metadata": {},
   "outputs": [],
   "source": [
    "# \n"
   ]
  },
  {
   "cell_type": "code",
   "execution_count": 68,
   "id": "64e06db9",
   "metadata": {},
   "outputs": [],
   "source": [
    "# r2_score(x_train_ada,y_train)"
   ]
  },
  {
   "cell_type": "code",
   "execution_count": 69,
   "id": "49ff7738",
   "metadata": {},
   "outputs": [],
   "source": [
    "# \n"
   ]
  },
  {
   "cell_type": "code",
   "execution_count": 70,
   "id": "cc079bb3",
   "metadata": {},
   "outputs": [],
   "source": [
    "# df2.head()"
   ]
  },
  {
   "cell_type": "code",
   "execution_count": 71,
   "id": "1e67b886",
   "metadata": {},
   "outputs": [
    {
     "data": {
      "text/html": [
       "<div>\n",
       "<style scoped>\n",
       "    .dataframe tbody tr th:only-of-type {\n",
       "        vertical-align: middle;\n",
       "    }\n",
       "\n",
       "    .dataframe tbody tr th {\n",
       "        vertical-align: top;\n",
       "    }\n",
       "\n",
       "    .dataframe thead th {\n",
       "        text-align: right;\n",
       "    }\n",
       "</style>\n",
       "<table border=\"1\" class=\"dataframe\">\n",
       "  <thead>\n",
       "    <tr style=\"text-align: right;\">\n",
       "      <th></th>\n",
       "      <th>SOLD_DATE</th>\n",
       "      <th>MIXMMVYEAR</th>\n",
       "      <th>MAKE_YEAR</th>\n",
       "      <th>Make_Clean</th>\n",
       "      <th>Model_Clean</th>\n",
       "      <th>Variant_Clean</th>\n",
       "      <th>Fuel_Clean</th>\n",
       "      <th>SOLDAMOUNT</th>\n",
       "      <th>CV_State_Clean</th>\n",
       "      <th>METERREADING</th>\n",
       "      <th>SELLER_SEGMENT</th>\n",
       "      <th>SOLD_YEAR</th>\n",
       "      <th>SOLD_MONTH</th>\n",
       "      <th>SOLD_DAY</th>\n",
       "      <th>CV_AGE</th>\n",
       "    </tr>\n",
       "  </thead>\n",
       "  <tbody>\n",
       "    <tr>\n",
       "      <th>67592</th>\n",
       "      <td>2019-12-12</td>\n",
       "      <td>JEEP_COMPASS_1.4LIMITED_PETROL_2017</td>\n",
       "      <td>2017</td>\n",
       "      <td>JEEP</td>\n",
       "      <td>COMPASS</td>\n",
       "      <td>1.4LIMITED</td>\n",
       "      <td>PETROL</td>\n",
       "      <td>1770230.000</td>\n",
       "      <td>ODISHA</td>\n",
       "      <td>32250.000</td>\n",
       "      <td>OEM</td>\n",
       "      <td>2019</td>\n",
       "      <td>12</td>\n",
       "      <td>12</td>\n",
       "      <td>2</td>\n",
       "    </tr>\n",
       "    <tr>\n",
       "      <th>67593</th>\n",
       "      <td>2020-12-12</td>\n",
       "      <td>JEEP_COMPASS_1.4LIMITED_PETROL_2017</td>\n",
       "      <td>2017</td>\n",
       "      <td>JEEP</td>\n",
       "      <td>COMPASS</td>\n",
       "      <td>1.4LIMITED</td>\n",
       "      <td>PETROL</td>\n",
       "      <td>1609300.000</td>\n",
       "      <td>WESTBENGAL</td>\n",
       "      <td>43230.000</td>\n",
       "      <td>OEM</td>\n",
       "      <td>2020</td>\n",
       "      <td>12</td>\n",
       "      <td>12</td>\n",
       "      <td>3</td>\n",
       "    </tr>\n",
       "    <tr>\n",
       "      <th>67594</th>\n",
       "      <td>2021-12-12</td>\n",
       "      <td>JEEP_COMPASS_1.4LIMITED_PETROL_2017</td>\n",
       "      <td>2017</td>\n",
       "      <td>JEEP</td>\n",
       "      <td>COMPASS</td>\n",
       "      <td>1.4LIMITED</td>\n",
       "      <td>PETROL</td>\n",
       "      <td>1463000.000</td>\n",
       "      <td>GOA</td>\n",
       "      <td>54180.000</td>\n",
       "      <td>OEM</td>\n",
       "      <td>2021</td>\n",
       "      <td>12</td>\n",
       "      <td>12</td>\n",
       "      <td>4</td>\n",
       "    </tr>\n",
       "    <tr>\n",
       "      <th>67595</th>\n",
       "      <td>2022-12-12</td>\n",
       "      <td>JEEP_COMPASS_1.4LIMITED_PETROL_2017</td>\n",
       "      <td>2017</td>\n",
       "      <td>JEEP</td>\n",
       "      <td>COMPASS</td>\n",
       "      <td>1.4LIMITED</td>\n",
       "      <td>PETROL</td>\n",
       "      <td>1330000.000</td>\n",
       "      <td>UTTARPRADESH</td>\n",
       "      <td>65130.000</td>\n",
       "      <td>OEM</td>\n",
       "      <td>2022</td>\n",
       "      <td>12</td>\n",
       "      <td>12</td>\n",
       "      <td>5</td>\n",
       "    </tr>\n",
       "    <tr>\n",
       "      <th>67596</th>\n",
       "      <td>2019-12-12</td>\n",
       "      <td>JEEP_COMPASS_1.4LIMITED_PETROL_2018</td>\n",
       "      <td>2018</td>\n",
       "      <td>JEEP</td>\n",
       "      <td>COMPASS</td>\n",
       "      <td>1.4LIMITED</td>\n",
       "      <td>PETROL</td>\n",
       "      <td>1947253.000</td>\n",
       "      <td>ANDHRAPRADESH</td>\n",
       "      <td>21300.000</td>\n",
       "      <td>OEM</td>\n",
       "      <td>2019</td>\n",
       "      <td>12</td>\n",
       "      <td>12</td>\n",
       "      <td>1</td>\n",
       "    </tr>\n",
       "    <tr>\n",
       "      <th>...</th>\n",
       "      <td>...</td>\n",
       "      <td>...</td>\n",
       "      <td>...</td>\n",
       "      <td>...</td>\n",
       "      <td>...</td>\n",
       "      <td>...</td>\n",
       "      <td>...</td>\n",
       "      <td>...</td>\n",
       "      <td>...</td>\n",
       "      <td>...</td>\n",
       "      <td>...</td>\n",
       "      <td>...</td>\n",
       "      <td>...</td>\n",
       "      <td>...</td>\n",
       "      <td>...</td>\n",
       "    </tr>\n",
       "    <tr>\n",
       "      <th>68045</th>\n",
       "      <td>2021-12-12</td>\n",
       "      <td>JEEP_COMPASS_2.0SPORTPLUS_DIESEL_2021</td>\n",
       "      <td>2021</td>\n",
       "      <td>JEEP</td>\n",
       "      <td>COMPASS</td>\n",
       "      <td>2.0SPORTPLUS</td>\n",
       "      <td>DIESEL</td>\n",
       "      <td>1819876.000</td>\n",
       "      <td>ODISHA</td>\n",
       "      <td>10350.000</td>\n",
       "      <td>OEM</td>\n",
       "      <td>2021</td>\n",
       "      <td>12</td>\n",
       "      <td>12</td>\n",
       "      <td>0</td>\n",
       "    </tr>\n",
       "    <tr>\n",
       "      <th>68046</th>\n",
       "      <td>2022-12-12</td>\n",
       "      <td>JEEP_COMPASS_2.0SPORTPLUS_DIESEL_2021</td>\n",
       "      <td>2021</td>\n",
       "      <td>JEEP</td>\n",
       "      <td>COMPASS</td>\n",
       "      <td>2.0SPORTPLUS</td>\n",
       "      <td>DIESEL</td>\n",
       "      <td>1654433.000</td>\n",
       "      <td>WESTBENGAL</td>\n",
       "      <td>21300.000</td>\n",
       "      <td>OEM</td>\n",
       "      <td>2022</td>\n",
       "      <td>12</td>\n",
       "      <td>12</td>\n",
       "      <td>1</td>\n",
       "    </tr>\n",
       "    <tr>\n",
       "      <th>68047</th>\n",
       "      <td>2022-12-12</td>\n",
       "      <td>JEEP_COMPASS_2.0SPORTPLUS_DIESEL_2022</td>\n",
       "      <td>2022</td>\n",
       "      <td>JEEP</td>\n",
       "      <td>COMPASS</td>\n",
       "      <td>2.0SPORTPLUS</td>\n",
       "      <td>DIESEL</td>\n",
       "      <td>1819876.000</td>\n",
       "      <td>GUJARAT</td>\n",
       "      <td>10350.000</td>\n",
       "      <td>OEM</td>\n",
       "      <td>2022</td>\n",
       "      <td>12</td>\n",
       "      <td>12</td>\n",
       "      <td>0</td>\n",
       "    </tr>\n",
       "    <tr>\n",
       "      <th>68048</th>\n",
       "      <td>2023-10-01</td>\n",
       "      <td>JEEP_COMPASS_2.0SPORTPLUS_DIESEL_2022</td>\n",
       "      <td>2022</td>\n",
       "      <td>JEEP</td>\n",
       "      <td>COMPASS</td>\n",
       "      <td>2.0SPORTPLUS</td>\n",
       "      <td>DIESEL</td>\n",
       "      <td>2001863.600</td>\n",
       "      <td>ODISHA</td>\n",
       "      <td>9315.000</td>\n",
       "      <td>OEM</td>\n",
       "      <td>2023</td>\n",
       "      <td>10</td>\n",
       "      <td>1</td>\n",
       "      <td>1</td>\n",
       "    </tr>\n",
       "    <tr>\n",
       "      <th>68049</th>\n",
       "      <td>2023-10-01</td>\n",
       "      <td>JEEP_COMPASS_2.0SPORTPLUS_DIESEL_2023</td>\n",
       "      <td>2023</td>\n",
       "      <td>JEEP</td>\n",
       "      <td>COMPASS</td>\n",
       "      <td>2.0SPORTPLUS</td>\n",
       "      <td>DIESEL</td>\n",
       "      <td>2202049.960</td>\n",
       "      <td>ODISHA</td>\n",
       "      <td>8383.500</td>\n",
       "      <td>OEM</td>\n",
       "      <td>2023</td>\n",
       "      <td>10</td>\n",
       "      <td>1</td>\n",
       "      <td>0</td>\n",
       "    </tr>\n",
       "  </tbody>\n",
       "</table>\n",
       "<p>458 rows × 15 columns</p>\n",
       "</div>"
      ],
      "text/plain": [
       "       SOLD_DATE                             MIXMMVYEAR  MAKE_YEAR Make_Clean  \\\n",
       "67592 2019-12-12    JEEP_COMPASS_1.4LIMITED_PETROL_2017       2017       JEEP   \n",
       "67593 2020-12-12    JEEP_COMPASS_1.4LIMITED_PETROL_2017       2017       JEEP   \n",
       "67594 2021-12-12    JEEP_COMPASS_1.4LIMITED_PETROL_2017       2017       JEEP   \n",
       "67595 2022-12-12    JEEP_COMPASS_1.4LIMITED_PETROL_2017       2017       JEEP   \n",
       "67596 2019-12-12    JEEP_COMPASS_1.4LIMITED_PETROL_2018       2018       JEEP   \n",
       "...          ...                                    ...        ...        ...   \n",
       "68045 2021-12-12  JEEP_COMPASS_2.0SPORTPLUS_DIESEL_2021       2021       JEEP   \n",
       "68046 2022-12-12  JEEP_COMPASS_2.0SPORTPLUS_DIESEL_2021       2021       JEEP   \n",
       "68047 2022-12-12  JEEP_COMPASS_2.0SPORTPLUS_DIESEL_2022       2022       JEEP   \n",
       "68048 2023-10-01  JEEP_COMPASS_2.0SPORTPLUS_DIESEL_2022       2022       JEEP   \n",
       "68049 2023-10-01  JEEP_COMPASS_2.0SPORTPLUS_DIESEL_2023       2023       JEEP   \n",
       "\n",
       "      Model_Clean Variant_Clean Fuel_Clean  SOLDAMOUNT CV_State_Clean  \\\n",
       "67592     COMPASS    1.4LIMITED     PETROL 1770230.000         ODISHA   \n",
       "67593     COMPASS    1.4LIMITED     PETROL 1609300.000     WESTBENGAL   \n",
       "67594     COMPASS    1.4LIMITED     PETROL 1463000.000            GOA   \n",
       "67595     COMPASS    1.4LIMITED     PETROL 1330000.000   UTTARPRADESH   \n",
       "67596     COMPASS    1.4LIMITED     PETROL 1947253.000  ANDHRAPRADESH   \n",
       "...           ...           ...        ...         ...            ...   \n",
       "68045     COMPASS  2.0SPORTPLUS     DIESEL 1819876.000         ODISHA   \n",
       "68046     COMPASS  2.0SPORTPLUS     DIESEL 1654433.000     WESTBENGAL   \n",
       "68047     COMPASS  2.0SPORTPLUS     DIESEL 1819876.000        GUJARAT   \n",
       "68048     COMPASS  2.0SPORTPLUS     DIESEL 2001863.600         ODISHA   \n",
       "68049     COMPASS  2.0SPORTPLUS     DIESEL 2202049.960         ODISHA   \n",
       "\n",
       "       METERREADING SELLER_SEGMENT  SOLD_YEAR  SOLD_MONTH  SOLD_DAY  CV_AGE  \n",
       "67592     32250.000            OEM       2019          12        12       2  \n",
       "67593     43230.000            OEM       2020          12        12       3  \n",
       "67594     54180.000            OEM       2021          12        12       4  \n",
       "67595     65130.000            OEM       2022          12        12       5  \n",
       "67596     21300.000            OEM       2019          12        12       1  \n",
       "...             ...            ...        ...         ...       ...     ...  \n",
       "68045     10350.000            OEM       2021          12        12       0  \n",
       "68046     21300.000            OEM       2022          12        12       1  \n",
       "68047     10350.000            OEM       2022          12        12       0  \n",
       "68048      9315.000            OEM       2023          10         1       1  \n",
       "68049      8383.500            OEM       2023          10         1       0  \n",
       "\n",
       "[458 rows x 15 columns]"
      ]
     },
     "execution_count": 71,
     "metadata": {},
     "output_type": "execute_result"
    }
   ],
   "source": [
    "jeep= df2[df2['Make_Clean']=='JEEP']\n",
    "jeep"
   ]
  },
  {
   "cell_type": "code",
   "execution_count": 72,
   "id": "695dd364",
   "metadata": {},
   "outputs": [],
   "source": [
    "predict_=pipe_xgb.predict(pd.DataFrame(columns=['MAKE_YEAR','Make_Clean','Model_Clean','Variant_Clean','Fuel_Clean','CV_State_Clean','METERREADING','SELLER_SEGMENT'],data=np.array([2017,'JEEP','COMPASS','1.4LIMITED','PETROL','ODISHA',32250.0,'OEM']).reshape(1,8)))"
   ]
  },
  {
   "cell_type": "code",
   "execution_count": 73,
   "id": "726af933",
   "metadata": {},
   "outputs": [
    {
     "data": {
      "text/plain": [
       "array([1755755.], dtype=float32)"
      ]
     },
     "execution_count": 73,
     "metadata": {},
     "output_type": "execute_result"
    }
   ],
   "source": [
    "\n",
    "\n",
    "predict_"
   ]
  },
  {
   "cell_type": "code",
   "execution_count": 74,
   "id": "8dc4dee2",
   "metadata": {},
   "outputs": [],
   "source": [
    "X_train_copy=X_train.copy()"
   ]
  },
  {
   "cell_type": "code",
   "execution_count": 75,
   "id": "39924b27",
   "metadata": {},
   "outputs": [],
   "source": [
    "X_train_copy['Predicted']=x_train_xgb"
   ]
  },
  {
   "cell_type": "code",
   "execution_count": 76,
   "id": "7e8e2d68",
   "metadata": {},
   "outputs": [],
   "source": [
    "X_train_copy['Actual']=y_train"
   ]
  },
  {
   "cell_type": "code",
   "execution_count": 77,
   "id": "6477c2fd",
   "metadata": {},
   "outputs": [
    {
     "data": {
      "text/plain": [
       "209851    86904.539\n",
       "36878    123622.258\n",
       "232054   123208.398\n",
       "199731    43233.188\n",
       "127948   281643.531\n",
       "            ...    \n",
       "214644    35602.602\n",
       "86567    231254.016\n",
       "123469   244132.078\n",
       "153258   793395.875\n",
       "118714    72570.359\n",
       "Name: Predicted, Length: 210240, dtype: float32"
      ]
     },
     "execution_count": 77,
     "metadata": {},
     "output_type": "execute_result"
    }
   ],
   "source": [
    "X_train_copy['Predicted']"
   ]
  },
  {
   "cell_type": "code",
   "execution_count": 78,
   "id": "06cdba50",
   "metadata": {},
   "outputs": [
    {
     "data": {
      "text/html": [
       "<div>\n",
       "<style scoped>\n",
       "    .dataframe tbody tr th:only-of-type {\n",
       "        vertical-align: middle;\n",
       "    }\n",
       "\n",
       "    .dataframe tbody tr th {\n",
       "        vertical-align: top;\n",
       "    }\n",
       "\n",
       "    .dataframe thead th {\n",
       "        text-align: right;\n",
       "    }\n",
       "</style>\n",
       "<table border=\"1\" class=\"dataframe\">\n",
       "  <thead>\n",
       "    <tr style=\"text-align: right;\">\n",
       "      <th></th>\n",
       "      <th>MAKE_YEAR</th>\n",
       "      <th>Make_Clean</th>\n",
       "      <th>Model_Clean</th>\n",
       "      <th>Variant_Clean</th>\n",
       "      <th>Fuel_Clean</th>\n",
       "      <th>CV_State_Clean</th>\n",
       "      <th>SELLER_SEGMENT</th>\n",
       "      <th>METERREADING</th>\n",
       "      <th>Predicted</th>\n",
       "      <th>Actual</th>\n",
       "    </tr>\n",
       "  </thead>\n",
       "  <tbody>\n",
       "    <tr>\n",
       "      <th>209851</th>\n",
       "      <td>2007</td>\n",
       "      <td>TATA</td>\n",
       "      <td>INDIGO</td>\n",
       "      <td>XL</td>\n",
       "      <td>DIESEL</td>\n",
       "      <td>KARNATAKA</td>\n",
       "      <td>RETAIL</td>\n",
       "      <td>118800.000</td>\n",
       "      <td>86904.539</td>\n",
       "      <td>30000.000</td>\n",
       "    </tr>\n",
       "    <tr>\n",
       "      <th>36878</th>\n",
       "      <td>2007</td>\n",
       "      <td>FORD</td>\n",
       "      <td>FIESTA</td>\n",
       "      <td>1.4DURATORQDIESELZXI</td>\n",
       "      <td>DIESEL</td>\n",
       "      <td>ANDHRAPRADESH</td>\n",
       "      <td>RETAIL</td>\n",
       "      <td>133663.000</td>\n",
       "      <td>123622.258</td>\n",
       "      <td>128000.000</td>\n",
       "    </tr>\n",
       "    <tr>\n",
       "      <th>232054</th>\n",
       "      <td>2006</td>\n",
       "      <td>TATA</td>\n",
       "      <td>SUMOSPACIO</td>\n",
       "      <td>GOLDPLUS</td>\n",
       "      <td>DIESEL</td>\n",
       "      <td>CHANDIGARH</td>\n",
       "      <td>OEM</td>\n",
       "      <td>163770.000</td>\n",
       "      <td>123208.398</td>\n",
       "      <td>117844.000</td>\n",
       "    </tr>\n",
       "    <tr>\n",
       "      <th>199731</th>\n",
       "      <td>2007</td>\n",
       "      <td>TATA</td>\n",
       "      <td>INDICAV2XETA</td>\n",
       "      <td>1.2GVG</td>\n",
       "      <td>PETROL</td>\n",
       "      <td>ANDHRAPRADESH</td>\n",
       "      <td>INSURANCE</td>\n",
       "      <td>174720.000</td>\n",
       "      <td>43233.188</td>\n",
       "      <td>46563.000</td>\n",
       "    </tr>\n",
       "    <tr>\n",
       "      <th>127948</th>\n",
       "      <td>2013</td>\n",
       "      <td>MARUTISUZUKI</td>\n",
       "      <td>SWIFT</td>\n",
       "      <td>LDI</td>\n",
       "      <td>DIESEL</td>\n",
       "      <td>TAMILNADU</td>\n",
       "      <td>BANK&amp;NBFC</td>\n",
       "      <td>27660.000</td>\n",
       "      <td>281643.531</td>\n",
       "      <td>545000.000</td>\n",
       "    </tr>\n",
       "    <tr>\n",
       "      <th>223341</th>\n",
       "      <td>2011</td>\n",
       "      <td>TATA</td>\n",
       "      <td>NANO</td>\n",
       "      <td>LX</td>\n",
       "      <td>PETROL</td>\n",
       "      <td>TAMILNADU</td>\n",
       "      <td>RETAIL</td>\n",
       "      <td>39160.000</td>\n",
       "      <td>52258.105</td>\n",
       "      <td>30000.000</td>\n",
       "    </tr>\n",
       "    <tr>\n",
       "      <th>115973</th>\n",
       "      <td>2007</td>\n",
       "      <td>MARUTISUZUKI</td>\n",
       "      <td>OMNI5SEATER</td>\n",
       "      <td>4X2MINIBUS</td>\n",
       "      <td>PETROL</td>\n",
       "      <td>TAMILNADU</td>\n",
       "      <td>BANK&amp;NBFC</td>\n",
       "      <td>148502.000</td>\n",
       "      <td>54943.016</td>\n",
       "      <td>40000.000</td>\n",
       "    </tr>\n",
       "    <tr>\n",
       "      <th>17159</th>\n",
       "      <td>2005</td>\n",
       "      <td>CHEVROLET</td>\n",
       "      <td>TAVERA</td>\n",
       "      <td>NEO310STR</td>\n",
       "      <td>DIESEL</td>\n",
       "      <td>TAMILNADU</td>\n",
       "      <td>INSURANCE</td>\n",
       "      <td>136320.000</td>\n",
       "      <td>149058.312</td>\n",
       "      <td>113000.000</td>\n",
       "    </tr>\n",
       "    <tr>\n",
       "      <th>74678</th>\n",
       "      <td>2015</td>\n",
       "      <td>MAHINDRA</td>\n",
       "      <td>SCORPIO</td>\n",
       "      <td>2.0S49S</td>\n",
       "      <td>DIESEL</td>\n",
       "      <td>CHHATTISGARH</td>\n",
       "      <td>OEM</td>\n",
       "      <td>76110.000</td>\n",
       "      <td>550870.938</td>\n",
       "      <td>492322.000</td>\n",
       "    </tr>\n",
       "    <tr>\n",
       "      <th>165367</th>\n",
       "      <td>2017</td>\n",
       "      <td>TATA</td>\n",
       "      <td>BOLT</td>\n",
       "      <td>XE</td>\n",
       "      <td>DIESEL</td>\n",
       "      <td>TAMILNADU</td>\n",
       "      <td>RETAIL</td>\n",
       "      <td>58260.000</td>\n",
       "      <td>241651.750</td>\n",
       "      <td>193000.000</td>\n",
       "    </tr>\n",
       "    <tr>\n",
       "      <th>46855</th>\n",
       "      <td>2008</td>\n",
       "      <td>HONDA</td>\n",
       "      <td>CIVIC</td>\n",
       "      <td>VMT</td>\n",
       "      <td>PETROL</td>\n",
       "      <td>MAHARASHTRA</td>\n",
       "      <td>BANK&amp;NBFC</td>\n",
       "      <td>108388.000</td>\n",
       "      <td>145221.406</td>\n",
       "      <td>135000.000</td>\n",
       "    </tr>\n",
       "    <tr>\n",
       "      <th>191285</th>\n",
       "      <td>2010</td>\n",
       "      <td>TATA</td>\n",
       "      <td>INDICAV2</td>\n",
       "      <td>DLS</td>\n",
       "      <td>DIESEL</td>\n",
       "      <td>ANDHRAPRADESH</td>\n",
       "      <td>BANK&amp;NBFC</td>\n",
       "      <td>67290.000</td>\n",
       "      <td>125920.867</td>\n",
       "      <td>105000.000</td>\n",
       "    </tr>\n",
       "    <tr>\n",
       "      <th>241332</th>\n",
       "      <td>2017</td>\n",
       "      <td>TATA</td>\n",
       "      <td>TIAGO</td>\n",
       "      <td>REVOTRONXTA</td>\n",
       "      <td>PETROL</td>\n",
       "      <td>JHARKHAND</td>\n",
       "      <td>OEM</td>\n",
       "      <td>43230.000</td>\n",
       "      <td>328389.344</td>\n",
       "      <td>340736.000</td>\n",
       "    </tr>\n",
       "    <tr>\n",
       "      <th>256217</th>\n",
       "      <td>2008</td>\n",
       "      <td>TOYOTA</td>\n",
       "      <td>INNOVA</td>\n",
       "      <td>2.5G</td>\n",
       "      <td>PETROL</td>\n",
       "      <td>KARNATAKA</td>\n",
       "      <td>BANK&amp;NBFC</td>\n",
       "      <td>110940.000</td>\n",
       "      <td>267725.562</td>\n",
       "      <td>240000.000</td>\n",
       "    </tr>\n",
       "    <tr>\n",
       "      <th>23395</th>\n",
       "      <td>2017</td>\n",
       "      <td>DATSUN</td>\n",
       "      <td>REDI-GO</td>\n",
       "      <td>T</td>\n",
       "      <td>PETROL</td>\n",
       "      <td>MANIPUR</td>\n",
       "      <td>OEM</td>\n",
       "      <td>54180.000</td>\n",
       "      <td>222996.875</td>\n",
       "      <td>226270.000</td>\n",
       "    </tr>\n",
       "    <tr>\n",
       "      <th>55644</th>\n",
       "      <td>2014</td>\n",
       "      <td>HYUNDAI</td>\n",
       "      <td>I20</td>\n",
       "      <td>1.2(P)SPORTZ</td>\n",
       "      <td>CNG</td>\n",
       "      <td>TAMILNADU</td>\n",
       "      <td>BANK&amp;NBFC</td>\n",
       "      <td>164708.000</td>\n",
       "      <td>262148.875</td>\n",
       "      <td>389000.000</td>\n",
       "    </tr>\n",
       "    <tr>\n",
       "      <th>155484</th>\n",
       "      <td>2017</td>\n",
       "      <td>NISSAN</td>\n",
       "      <td>MICRA</td>\n",
       "      <td>AT</td>\n",
       "      <td>PETROL</td>\n",
       "      <td>MANIPUR</td>\n",
       "      <td>OEM</td>\n",
       "      <td>43230.000</td>\n",
       "      <td>366629.438</td>\n",
       "      <td>315338.000</td>\n",
       "    </tr>\n",
       "    <tr>\n",
       "      <th>1704</th>\n",
       "      <td>2013</td>\n",
       "      <td>AUDI</td>\n",
       "      <td>Q7</td>\n",
       "      <td>4.2TDIQUATTRO</td>\n",
       "      <td>DIESEL</td>\n",
       "      <td>BIHAR</td>\n",
       "      <td>OEM</td>\n",
       "      <td>108076.000</td>\n",
       "      <td>2057510.000</td>\n",
       "      <td>2046567.000</td>\n",
       "    </tr>\n",
       "    <tr>\n",
       "      <th>3838</th>\n",
       "      <td>2012</td>\n",
       "      <td>BMW</td>\n",
       "      <td>X1SERIES</td>\n",
       "      <td>XDRIVE20DXLINE</td>\n",
       "      <td>DIESEL</td>\n",
       "      <td>WESTBENGAL</td>\n",
       "      <td>RETAIL</td>\n",
       "      <td>115830.000</td>\n",
       "      <td>474106.531</td>\n",
       "      <td>350000.000</td>\n",
       "    </tr>\n",
       "    <tr>\n",
       "      <th>87561</th>\n",
       "      <td>2013</td>\n",
       "      <td>MAHINDRA</td>\n",
       "      <td>XYLO</td>\n",
       "      <td>D2</td>\n",
       "      <td>DIESEL</td>\n",
       "      <td>TAMILNADU</td>\n",
       "      <td>BANK&amp;NBFC</td>\n",
       "      <td>23773.000</td>\n",
       "      <td>198127.219</td>\n",
       "      <td>175000.000</td>\n",
       "    </tr>\n",
       "  </tbody>\n",
       "</table>\n",
       "</div>"
      ],
      "text/plain": [
       "        MAKE_YEAR    Make_Clean   Model_Clean         Variant_Clean  \\\n",
       "209851       2007          TATA        INDIGO                    XL   \n",
       "36878        2007          FORD        FIESTA  1.4DURATORQDIESELZXI   \n",
       "232054       2006          TATA    SUMOSPACIO              GOLDPLUS   \n",
       "199731       2007          TATA  INDICAV2XETA                1.2GVG   \n",
       "127948       2013  MARUTISUZUKI         SWIFT                   LDI   \n",
       "223341       2011          TATA          NANO                    LX   \n",
       "115973       2007  MARUTISUZUKI   OMNI5SEATER            4X2MINIBUS   \n",
       "17159        2005     CHEVROLET        TAVERA             NEO310STR   \n",
       "74678        2015      MAHINDRA       SCORPIO               2.0S49S   \n",
       "165367       2017          TATA          BOLT                    XE   \n",
       "46855        2008         HONDA         CIVIC                   VMT   \n",
       "191285       2010          TATA      INDICAV2                   DLS   \n",
       "241332       2017          TATA         TIAGO           REVOTRONXTA   \n",
       "256217       2008        TOYOTA        INNOVA                  2.5G   \n",
       "23395        2017        DATSUN       REDI-GO                     T   \n",
       "55644        2014       HYUNDAI           I20          1.2(P)SPORTZ   \n",
       "155484       2017        NISSAN         MICRA                    AT   \n",
       "1704         2013          AUDI            Q7         4.2TDIQUATTRO   \n",
       "3838         2012           BMW      X1SERIES        XDRIVE20DXLINE   \n",
       "87561        2013      MAHINDRA          XYLO                    D2   \n",
       "\n",
       "       Fuel_Clean CV_State_Clean SELLER_SEGMENT  METERREADING   Predicted  \\\n",
       "209851     DIESEL      KARNATAKA         RETAIL    118800.000   86904.539   \n",
       "36878      DIESEL  ANDHRAPRADESH         RETAIL    133663.000  123622.258   \n",
       "232054     DIESEL     CHANDIGARH            OEM    163770.000  123208.398   \n",
       "199731     PETROL  ANDHRAPRADESH      INSURANCE    174720.000   43233.188   \n",
       "127948     DIESEL      TAMILNADU      BANK&NBFC     27660.000  281643.531   \n",
       "223341     PETROL      TAMILNADU         RETAIL     39160.000   52258.105   \n",
       "115973     PETROL      TAMILNADU      BANK&NBFC    148502.000   54943.016   \n",
       "17159      DIESEL      TAMILNADU      INSURANCE    136320.000  149058.312   \n",
       "74678      DIESEL   CHHATTISGARH            OEM     76110.000  550870.938   \n",
       "165367     DIESEL      TAMILNADU         RETAIL     58260.000  241651.750   \n",
       "46855      PETROL    MAHARASHTRA      BANK&NBFC    108388.000  145221.406   \n",
       "191285     DIESEL  ANDHRAPRADESH      BANK&NBFC     67290.000  125920.867   \n",
       "241332     PETROL      JHARKHAND            OEM     43230.000  328389.344   \n",
       "256217     PETROL      KARNATAKA      BANK&NBFC    110940.000  267725.562   \n",
       "23395      PETROL        MANIPUR            OEM     54180.000  222996.875   \n",
       "55644         CNG      TAMILNADU      BANK&NBFC    164708.000  262148.875   \n",
       "155484     PETROL        MANIPUR            OEM     43230.000  366629.438   \n",
       "1704       DIESEL          BIHAR            OEM    108076.000 2057510.000   \n",
       "3838       DIESEL     WESTBENGAL         RETAIL    115830.000  474106.531   \n",
       "87561      DIESEL      TAMILNADU      BANK&NBFC     23773.000  198127.219   \n",
       "\n",
       "            Actual  \n",
       "209851   30000.000  \n",
       "36878   128000.000  \n",
       "232054  117844.000  \n",
       "199731   46563.000  \n",
       "127948  545000.000  \n",
       "223341   30000.000  \n",
       "115973   40000.000  \n",
       "17159   113000.000  \n",
       "74678   492322.000  \n",
       "165367  193000.000  \n",
       "46855   135000.000  \n",
       "191285  105000.000  \n",
       "241332  340736.000  \n",
       "256217  240000.000  \n",
       "23395   226270.000  \n",
       "55644   389000.000  \n",
       "155484  315338.000  \n",
       "1704   2046567.000  \n",
       "3838    350000.000  \n",
       "87561   175000.000  "
      ]
     },
     "execution_count": 78,
     "metadata": {},
     "output_type": "execute_result"
    }
   ],
   "source": [
    "X_train_copy.head(20)"
   ]
  },
  {
   "cell_type": "code",
   "execution_count": 79,
   "id": "15cb4b08",
   "metadata": {},
   "outputs": [],
   "source": [
    "MAPE=abs((X_train_copy['Actual']-X_train_copy['Predicted'])/X_train_copy['Actual']).mean()*100"
   ]
  },
  {
   "cell_type": "code",
   "execution_count": 80,
   "id": "75360f16",
   "metadata": {},
   "outputs": [
    {
     "data": {
      "text/plain": [
       "31.787530584211442"
      ]
     },
     "execution_count": 80,
     "metadata": {},
     "output_type": "execute_result"
    }
   ],
   "source": [
    "MAPE"
   ]
  },
  {
   "cell_type": "code",
   "execution_count": null,
   "id": "1fce4b98",
   "metadata": {},
   "outputs": [],
   "source": []
  },
  {
   "cell_type": "code",
   "execution_count": null,
   "id": "2fa7f871",
   "metadata": {},
   "outputs": [],
   "source": []
  },
  {
   "cell_type": "code",
   "execution_count": null,
   "id": "0f4dc34d",
   "metadata": {},
   "outputs": [],
   "source": []
  },
  {
   "cell_type": "code",
   "execution_count": null,
   "id": "47eac2f8",
   "metadata": {},
   "outputs": [],
   "source": []
  },
  {
   "cell_type": "code",
   "execution_count": null,
   "id": "647483c9",
   "metadata": {},
   "outputs": [],
   "source": []
  },
  {
   "cell_type": "code",
   "execution_count": null,
   "id": "a79db012",
   "metadata": {},
   "outputs": [],
   "source": []
  },
  {
   "cell_type": "code",
   "execution_count": null,
   "id": "47dd7bb5",
   "metadata": {},
   "outputs": [],
   "source": [
    "\n"
   ]
  }
 ],
 "metadata": {
  "kernelspec": {
   "display_name": "Python 3 (ipykernel)",
   "language": "python",
   "name": "python3"
  },
  "language_info": {
   "codemirror_mode": {
    "name": "ipython",
    "version": 3
   },
   "file_extension": ".py",
   "mimetype": "text/x-python",
   "name": "python",
   "nbconvert_exporter": "python",
   "pygments_lexer": "ipython3",
   "version": "3.11.0"
  }
 },
 "nbformat": 4,
 "nbformat_minor": 5
}
